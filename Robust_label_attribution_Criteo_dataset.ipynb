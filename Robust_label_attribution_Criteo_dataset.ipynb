{
 "cells": [
  {
   "cell_type": "code",
   "execution_count": 1,
   "metadata": {
    "execution": {
     "iopub.execute_input": "2021-05-11T18:15:04.009584Z",
     "iopub.status.busy": "2021-05-11T18:15:04.008383Z",
     "iopub.status.idle": "2021-05-11T18:15:04.010079Z",
     "shell.execute_reply": "2021-05-11T18:15:04.010415Z"
    },
    "pycharm": {
     "name": "#%%\n"
    }
   },
   "outputs": [],
   "source": [
    "# To ensure reproducibility please install the following requirements\n",
    "# pandas==1.0.5\n",
    "# numpy==1.19.0\n",
    "# matplotlib==3.2.2\n",
    "# scipy==1.5.0\n",
    "# scikit-learn==0.23.1"
   ]
  },
  {
   "cell_type": "code",
   "execution_count": 2,
   "metadata": {
    "collapsed": false,
    "execution": {
     "iopub.execute_input": "2021-05-11T18:15:04.018161Z",
     "iopub.status.busy": "2021-05-11T18:15:04.017737Z",
     "iopub.status.idle": "2021-05-11T18:15:04.736002Z",
     "shell.execute_reply": "2021-05-11T18:15:04.736372Z"
    },
    "jupyter": {
     "outputs_hidden": false
    },
    "pycharm": {
     "name": "#%%\n"
    }
   },
   "outputs": [],
   "source": [
    "import os\n",
    "import urllib.request\n",
    "import zipfile\n",
    "from functools import lru_cache\n",
    "\n",
    "import pandas as pd\n",
    "import numpy as np\n",
    "import scipy\n",
    "import scipy.sparse\n",
    "\n",
    "import sklearn\n",
    "from sklearn.linear_model import LogisticRegression\n",
    "from sklearn.feature_extraction import FeatureHasher\n",
    "import joblib\n",
    "\n",
    "import matplotlib.pyplot as plt\n",
    "from matplotlib.ticker import PercentFormatter\n",
    "\n",
    "plt.style.use('ggplot')"
   ]
  },
  {
   "cell_type": "markdown",
   "metadata": {},
   "source": [
    "## Download Data"
   ]
  },
  {
   "cell_type": "code",
   "execution_count": 3,
   "metadata": {
    "collapsed": false,
    "execution": {
     "iopub.execute_input": "2021-05-11T18:15:04.740161Z",
     "iopub.status.busy": "2021-05-11T18:15:04.739747Z",
     "iopub.status.idle": "2021-05-11T18:15:04.741023Z",
     "shell.execute_reply": "2021-05-11T18:15:04.741345Z"
    },
    "jupyter": {
     "outputs_hidden": false
    },
    "pycharm": {
     "name": "#%%\n"
    }
   },
   "outputs": [],
   "source": [
    "def download_dataset():\n",
    "  urllib.request.urlretrieve(\n",
    "    \"https://s3-eu-west-1.amazonaws.com/attribution-dataset/criteo_attribution_dataset.zip\", \n",
    "    \"criteo_attribution_dataset.zip\"\n",
    "  )\n",
    "  \n",
    "  with zipfile.ZipFile(\"criteo_attribution_dataset.zip\", \"r\") as zip_ref:\n",
    "    zip_ref.extractall(\"criteo_attribution_dataset\")"
   ]
  },
  {
   "cell_type": "code",
   "execution_count": 4,
   "metadata": {
    "collapsed": false,
    "execution": {
     "iopub.execute_input": "2021-05-11T18:15:04.744066Z",
     "iopub.status.busy": "2021-05-11T18:15:04.743666Z",
     "iopub.status.idle": "2021-05-11T18:15:04.745215Z",
     "shell.execute_reply": "2021-05-11T18:15:04.745542Z"
    },
    "jupyter": {
     "outputs_hidden": false
    },
    "pycharm": {
     "name": "#%%\n"
    }
   },
   "outputs": [],
   "source": [
    "dataset_path = 'criteo_attribution_dataset/criteo_attribution_dataset.tsv.gz'\n",
    "\n",
    "if not os.path.exists(dataset_path):\n",
    "  download_dataset()"
   ]
  },
  {
   "cell_type": "markdown",
   "metadata": {},
   "source": [
    "## Preprocessing"
   ]
  },
  {
   "cell_type": "markdown",
   "metadata": {},
   "source": [
    "### Take a data sample\n",
    "In order to run the code on Google colab or a personal computer, we might want to sub-sample a part of the user histories."
   ]
  },
  {
   "cell_type": "code",
   "execution_count": 5,
   "metadata": {
    "execution": {
     "iopub.execute_input": "2021-05-11T18:15:04.748198Z",
     "iopub.status.busy": "2021-05-11T18:15:04.747808Z",
     "iopub.status.idle": "2021-05-11T18:15:04.749070Z",
     "shell.execute_reply": "2021-05-11T18:15:04.749391Z"
    }
   },
   "outputs": [],
   "source": [
    "DEBUG_SAMPLE = 1.0"
   ]
  },
  {
   "cell_type": "code",
   "execution_count": 6,
   "metadata": {
    "collapsed": false,
    "execution": {
     "iopub.execute_input": "2021-05-11T18:15:04.753506Z",
     "iopub.status.busy": "2021-05-11T18:15:04.753098Z",
     "iopub.status.idle": "2021-05-11T18:16:03.949275Z",
     "shell.execute_reply": "2021-05-11T18:16:03.949622Z"
    },
    "jupyter": {
     "outputs_hidden": false
    },
    "pycharm": {
     "name": "#%%\n"
    }
   },
   "outputs": [
    {
     "data": {
      "text/html": [
       "<div>\n",
       "<style scoped>\n",
       "    .dataframe tbody tr th:only-of-type {\n",
       "        vertical-align: middle;\n",
       "    }\n",
       "\n",
       "    .dataframe tbody tr th {\n",
       "        vertical-align: top;\n",
       "    }\n",
       "\n",
       "    .dataframe thead th {\n",
       "        text-align: right;\n",
       "    }\n",
       "</style>\n",
       "<table border=\"1\" class=\"dataframe\">\n",
       "  <thead>\n",
       "    <tr style=\"text-align: right;\">\n",
       "      <th></th>\n",
       "      <th>timestamp</th>\n",
       "      <th>uid</th>\n",
       "      <th>campaign</th>\n",
       "      <th>conversion</th>\n",
       "      <th>conversion_timestamp</th>\n",
       "      <th>conversion_id</th>\n",
       "      <th>attribution</th>\n",
       "      <th>click</th>\n",
       "      <th>click_pos</th>\n",
       "      <th>click_nb</th>\n",
       "      <th>...</th>\n",
       "      <th>time_since_last_click</th>\n",
       "      <th>cat1</th>\n",
       "      <th>cat2</th>\n",
       "      <th>cat3</th>\n",
       "      <th>cat4</th>\n",
       "      <th>cat5</th>\n",
       "      <th>cat6</th>\n",
       "      <th>cat7</th>\n",
       "      <th>cat8</th>\n",
       "      <th>cat9</th>\n",
       "    </tr>\n",
       "  </thead>\n",
       "  <tbody>\n",
       "    <tr>\n",
       "      <th>0</th>\n",
       "      <td>0</td>\n",
       "      <td>20073966</td>\n",
       "      <td>22589171</td>\n",
       "      <td>0</td>\n",
       "      <td>-1</td>\n",
       "      <td>-1</td>\n",
       "      <td>0</td>\n",
       "      <td>0</td>\n",
       "      <td>-1</td>\n",
       "      <td>-1</td>\n",
       "      <td>...</td>\n",
       "      <td>-1</td>\n",
       "      <td>5824233</td>\n",
       "      <td>9312274</td>\n",
       "      <td>3490278</td>\n",
       "      <td>29196072</td>\n",
       "      <td>11409686</td>\n",
       "      <td>1973606</td>\n",
       "      <td>25162884</td>\n",
       "      <td>29196072</td>\n",
       "      <td>29196072</td>\n",
       "    </tr>\n",
       "    <tr>\n",
       "      <th>1</th>\n",
       "      <td>2</td>\n",
       "      <td>24607497</td>\n",
       "      <td>884761</td>\n",
       "      <td>0</td>\n",
       "      <td>-1</td>\n",
       "      <td>-1</td>\n",
       "      <td>0</td>\n",
       "      <td>0</td>\n",
       "      <td>-1</td>\n",
       "      <td>-1</td>\n",
       "      <td>...</td>\n",
       "      <td>423858</td>\n",
       "      <td>30763035</td>\n",
       "      <td>9312274</td>\n",
       "      <td>14584482</td>\n",
       "      <td>29196072</td>\n",
       "      <td>11409686</td>\n",
       "      <td>1973606</td>\n",
       "      <td>22644417</td>\n",
       "      <td>9312274</td>\n",
       "      <td>21091111</td>\n",
       "    </tr>\n",
       "    <tr>\n",
       "      <th>2</th>\n",
       "      <td>2</td>\n",
       "      <td>28474333</td>\n",
       "      <td>18975823</td>\n",
       "      <td>0</td>\n",
       "      <td>-1</td>\n",
       "      <td>-1</td>\n",
       "      <td>0</td>\n",
       "      <td>0</td>\n",
       "      <td>-1</td>\n",
       "      <td>-1</td>\n",
       "      <td>...</td>\n",
       "      <td>8879</td>\n",
       "      <td>138937</td>\n",
       "      <td>9312274</td>\n",
       "      <td>10769841</td>\n",
       "      <td>29196072</td>\n",
       "      <td>5824237</td>\n",
       "      <td>138937</td>\n",
       "      <td>1795451</td>\n",
       "      <td>29196072</td>\n",
       "      <td>15351056</td>\n",
       "    </tr>\n",
       "    <tr>\n",
       "      <th>3</th>\n",
       "      <td>3</td>\n",
       "      <td>7306395</td>\n",
       "      <td>29427842</td>\n",
       "      <td>1</td>\n",
       "      <td>1449193</td>\n",
       "      <td>3063962</td>\n",
       "      <td>0</td>\n",
       "      <td>1</td>\n",
       "      <td>0</td>\n",
       "      <td>7</td>\n",
       "      <td>...</td>\n",
       "      <td>-1</td>\n",
       "      <td>28928366</td>\n",
       "      <td>26597095</td>\n",
       "      <td>12435261</td>\n",
       "      <td>23549932</td>\n",
       "      <td>5824237</td>\n",
       "      <td>1973606</td>\n",
       "      <td>9180723</td>\n",
       "      <td>29841067</td>\n",
       "      <td>29196072</td>\n",
       "    </tr>\n",
       "    <tr>\n",
       "      <th>4</th>\n",
       "      <td>3</td>\n",
       "      <td>25357769</td>\n",
       "      <td>13365547</td>\n",
       "      <td>0</td>\n",
       "      <td>-1</td>\n",
       "      <td>-1</td>\n",
       "      <td>0</td>\n",
       "      <td>0</td>\n",
       "      <td>-1</td>\n",
       "      <td>-1</td>\n",
       "      <td>...</td>\n",
       "      <td>-1</td>\n",
       "      <td>138937</td>\n",
       "      <td>26597094</td>\n",
       "      <td>31616034</td>\n",
       "      <td>29196072</td>\n",
       "      <td>11409684</td>\n",
       "      <td>26597096</td>\n",
       "      <td>4480345</td>\n",
       "      <td>29196072</td>\n",
       "      <td>29196072</td>\n",
       "    </tr>\n",
       "    <tr>\n",
       "      <th>...</th>\n",
       "      <td>...</td>\n",
       "      <td>...</td>\n",
       "      <td>...</td>\n",
       "      <td>...</td>\n",
       "      <td>...</td>\n",
       "      <td>...</td>\n",
       "      <td>...</td>\n",
       "      <td>...</td>\n",
       "      <td>...</td>\n",
       "      <td>...</td>\n",
       "      <td>...</td>\n",
       "      <td>...</td>\n",
       "      <td>...</td>\n",
       "      <td>...</td>\n",
       "      <td>...</td>\n",
       "      <td>...</td>\n",
       "      <td>...</td>\n",
       "      <td>...</td>\n",
       "      <td>...</td>\n",
       "      <td>...</td>\n",
       "      <td>...</td>\n",
       "    </tr>\n",
       "    <tr>\n",
       "      <th>16468022</th>\n",
       "      <td>2671199</td>\n",
       "      <td>5767906</td>\n",
       "      <td>4869923</td>\n",
       "      <td>0</td>\n",
       "      <td>-1</td>\n",
       "      <td>-1</td>\n",
       "      <td>0</td>\n",
       "      <td>1</td>\n",
       "      <td>-1</td>\n",
       "      <td>-1</td>\n",
       "      <td>...</td>\n",
       "      <td>482560</td>\n",
       "      <td>30763035</td>\n",
       "      <td>26597095</td>\n",
       "      <td>13113052</td>\n",
       "      <td>29196072</td>\n",
       "      <td>5824236</td>\n",
       "      <td>30763035</td>\n",
       "      <td>18391143</td>\n",
       "      <td>29196072</td>\n",
       "      <td>8661623</td>\n",
       "    </tr>\n",
       "    <tr>\n",
       "      <th>16468023</th>\n",
       "      <td>2671199</td>\n",
       "      <td>6852682</td>\n",
       "      <td>10002432</td>\n",
       "      <td>0</td>\n",
       "      <td>-1</td>\n",
       "      <td>-1</td>\n",
       "      <td>0</td>\n",
       "      <td>0</td>\n",
       "      <td>-1</td>\n",
       "      <td>-1</td>\n",
       "      <td>...</td>\n",
       "      <td>971748</td>\n",
       "      <td>25259032</td>\n",
       "      <td>9312274</td>\n",
       "      <td>10979162</td>\n",
       "      <td>29196072</td>\n",
       "      <td>32440044</td>\n",
       "      <td>29196072</td>\n",
       "      <td>27259439</td>\n",
       "      <td>29196072</td>\n",
       "      <td>8661620</td>\n",
       "    </tr>\n",
       "    <tr>\n",
       "      <th>16468024</th>\n",
       "      <td>2671199</td>\n",
       "      <td>16638720</td>\n",
       "      <td>7061828</td>\n",
       "      <td>0</td>\n",
       "      <td>-1</td>\n",
       "      <td>-1</td>\n",
       "      <td>0</td>\n",
       "      <td>0</td>\n",
       "      <td>-1</td>\n",
       "      <td>-1</td>\n",
       "      <td>...</td>\n",
       "      <td>268431</td>\n",
       "      <td>30763035</td>\n",
       "      <td>5824235</td>\n",
       "      <td>29542751</td>\n",
       "      <td>29196072</td>\n",
       "      <td>5824237</td>\n",
       "      <td>29196072</td>\n",
       "      <td>3696777</td>\n",
       "      <td>29196072</td>\n",
       "      <td>21091111</td>\n",
       "    </tr>\n",
       "    <tr>\n",
       "      <th>16468025</th>\n",
       "      <td>2671199</td>\n",
       "      <td>3032300</td>\n",
       "      <td>5061834</td>\n",
       "      <td>0</td>\n",
       "      <td>-1</td>\n",
       "      <td>-1</td>\n",
       "      <td>0</td>\n",
       "      <td>1</td>\n",
       "      <td>-1</td>\n",
       "      <td>-1</td>\n",
       "      <td>...</td>\n",
       "      <td>-1</td>\n",
       "      <td>1973606</td>\n",
       "      <td>26597096</td>\n",
       "      <td>28944164</td>\n",
       "      <td>29196072</td>\n",
       "      <td>26611392</td>\n",
       "      <td>1973606</td>\n",
       "      <td>5642940</td>\n",
       "      <td>14911188</td>\n",
       "      <td>29196072</td>\n",
       "    </tr>\n",
       "    <tr>\n",
       "      <th>16468026</th>\n",
       "      <td>2671199</td>\n",
       "      <td>23160808</td>\n",
       "      <td>15398570</td>\n",
       "      <td>0</td>\n",
       "      <td>-1</td>\n",
       "      <td>-1</td>\n",
       "      <td>0</td>\n",
       "      <td>0</td>\n",
       "      <td>-1</td>\n",
       "      <td>-1</td>\n",
       "      <td>...</td>\n",
       "      <td>294889</td>\n",
       "      <td>30763035</td>\n",
       "      <td>28928366</td>\n",
       "      <td>26487682</td>\n",
       "      <td>29196072</td>\n",
       "      <td>32440044</td>\n",
       "      <td>28928366</td>\n",
       "      <td>27168706</td>\n",
       "      <td>29196072</td>\n",
       "      <td>21091111</td>\n",
       "    </tr>\n",
       "  </tbody>\n",
       "</table>\n",
       "<p>16468027 rows × 22 columns</p>\n",
       "</div>"
      ],
      "text/plain": [
       "          timestamp       uid  campaign  conversion  conversion_timestamp  \\\n",
       "0                 0  20073966  22589171           0                    -1   \n",
       "1                 2  24607497    884761           0                    -1   \n",
       "2                 2  28474333  18975823           0                    -1   \n",
       "3                 3   7306395  29427842           1               1449193   \n",
       "4                 3  25357769  13365547           0                    -1   \n",
       "...             ...       ...       ...         ...                   ...   \n",
       "16468022    2671199   5767906   4869923           0                    -1   \n",
       "16468023    2671199   6852682  10002432           0                    -1   \n",
       "16468024    2671199  16638720   7061828           0                    -1   \n",
       "16468025    2671199   3032300   5061834           0                    -1   \n",
       "16468026    2671199  23160808  15398570           0                    -1   \n",
       "\n",
       "          conversion_id  attribution  click  click_pos  click_nb  ...  \\\n",
       "0                    -1            0      0         -1        -1  ...   \n",
       "1                    -1            0      0         -1        -1  ...   \n",
       "2                    -1            0      0         -1        -1  ...   \n",
       "3               3063962            0      1          0         7  ...   \n",
       "4                    -1            0      0         -1        -1  ...   \n",
       "...                 ...          ...    ...        ...       ...  ...   \n",
       "16468022             -1            0      1         -1        -1  ...   \n",
       "16468023             -1            0      0         -1        -1  ...   \n",
       "16468024             -1            0      0         -1        -1  ...   \n",
       "16468025             -1            0      1         -1        -1  ...   \n",
       "16468026             -1            0      0         -1        -1  ...   \n",
       "\n",
       "          time_since_last_click      cat1      cat2      cat3      cat4  \\\n",
       "0                            -1   5824233   9312274   3490278  29196072   \n",
       "1                        423858  30763035   9312274  14584482  29196072   \n",
       "2                          8879    138937   9312274  10769841  29196072   \n",
       "3                            -1  28928366  26597095  12435261  23549932   \n",
       "4                            -1    138937  26597094  31616034  29196072   \n",
       "...                         ...       ...       ...       ...       ...   \n",
       "16468022                 482560  30763035  26597095  13113052  29196072   \n",
       "16468023                 971748  25259032   9312274  10979162  29196072   \n",
       "16468024                 268431  30763035   5824235  29542751  29196072   \n",
       "16468025                     -1   1973606  26597096  28944164  29196072   \n",
       "16468026                 294889  30763035  28928366  26487682  29196072   \n",
       "\n",
       "              cat5      cat6      cat7      cat8      cat9  \n",
       "0         11409686   1973606  25162884  29196072  29196072  \n",
       "1         11409686   1973606  22644417   9312274  21091111  \n",
       "2          5824237    138937   1795451  29196072  15351056  \n",
       "3          5824237   1973606   9180723  29841067  29196072  \n",
       "4         11409684  26597096   4480345  29196072  29196072  \n",
       "...            ...       ...       ...       ...       ...  \n",
       "16468022   5824236  30763035  18391143  29196072   8661623  \n",
       "16468023  32440044  29196072  27259439  29196072   8661620  \n",
       "16468024   5824237  29196072   3696777  29196072  21091111  \n",
       "16468025  26611392   1973606   5642940  14911188  29196072  \n",
       "16468026  32440044  28928366  27168706  29196072  21091111  \n",
       "\n",
       "[16468027 rows x 22 columns]"
      ]
     },
     "execution_count": 1,
     "metadata": {},
     "output_type": "execute_result"
    }
   ],
   "source": [
    "def get_sampled_dataset(debug_sample=1.0):\n",
    "  \"\"\"Get a dataset in which we sample on user ids to ensure we keep the entire histories\n",
    "  \"\"\"\n",
    "  df = pd.read_csv(dataset_path, sep='\\t', compression=\"gzip\")\n",
    "  uid_and_salt = df['uid'].astype(str) + 'hash_salt_for_sampling'\n",
    "  hashed_uid_and_salt = pd.util.hash_pandas_object(uid_and_salt, index=False)\n",
    "  random_column_based_on_uid = hashed_uid_and_salt / np.iinfo(np.uint64).max\n",
    "  return df[random_column_based_on_uid < debug_sample]\n",
    "\n",
    "sampled_dataset = get_sampled_dataset(DEBUG_SAMPLE)\n",
    "sampled_dataset"
   ]
  },
  {
   "cell_type": "markdown",
   "metadata": {},
   "source": [
    "### Clean histories\n",
    "Split histories having multiple conversions and remove histories that have missing clicks"
   ]
  },
  {
   "cell_type": "code",
   "execution_count": 7,
   "metadata": {
    "collapsed": false,
    "execution": {
     "iopub.execute_input": "2021-05-11T18:16:03.956237Z",
     "iopub.status.busy": "2021-05-11T18:16:03.955822Z",
     "iopub.status.idle": "2021-05-11T18:16:03.957580Z",
     "shell.execute_reply": "2021-05-11T18:16:03.957229Z"
    },
    "jupyter": {
     "outputs_hidden": false
    },
    "pycharm": {
     "name": "#%%\n"
    }
   },
   "outputs": [],
   "source": [
    "def split_histories(df):\n",
    "  \"\"\"Some histories have several conversions and conversion times.\n",
    "  For the sake of simplicity, we split the histories as soon as a conversion occurs.\n",
    "  \"\"\"\n",
    "  conversion_timestamps = df.groupby('history_id').agg({'conversion_timestamp': lambda x: sorted(list(set(x)))})\n",
    "  conversion_timestamps.rename(columns={'conversion_timestamp': 'conversion_timestamps'}, inplace=True)\n",
    "\n",
    "  def get_next_conversion_timestamp(data):\n",
    "    next_conversion_index = np.searchsorted(data['conversion_timestamps'], data['timestamp'])\n",
    "    if next_conversion_index == len(data['conversion_timestamps']):\n",
    "      return 'nnc' # no next conversion\n",
    "    else:\n",
    "      return str(data['conversion_timestamps'][next_conversion_index])\n",
    "\n",
    "  df_with_ct = df.merge(conversion_timestamps, on='history_id', how='outer', validate=\"many_to_one\")\n",
    "\n",
    "  matched_displays_mask = df_with_ct['conversion_timestamp'] > 0\n",
    "  df_with_ct['next_conversion_timestamp'] = np.where(\n",
    "      matched_displays_mask,\n",
    "      df_with_ct['conversion_timestamp'].astype(str),\n",
    "      df_with_ct.apply(get_next_conversion_timestamp, axis=1)\n",
    "  )\n",
    "  \n",
    "  df_with_ct.rename(columns={'history_id': 'history_id_no_split'}, inplace=True)\n",
    "  df_with_ct['history_id'] = df_with_ct['history_id_no_split'].astype(str) + '_' + df_with_ct['next_conversion_timestamp']\n",
    "  \n",
    "  original_column_order = list(df.columns)\n",
    "  return df_with_ct[original_column_order]"
   ]
  },
  {
   "cell_type": "code",
   "execution_count": 8,
   "metadata": {
    "collapsed": false,
    "execution": {
     "iopub.execute_input": "2021-05-11T18:16:03.974652Z",
     "iopub.status.busy": "2021-05-11T18:16:03.967214Z",
     "iopub.status.idle": "2021-05-11T18:16:03.983125Z",
     "shell.execute_reply": "2021-05-11T18:16:03.982789Z"
    },
    "jupyter": {
     "outputs_hidden": false
    },
    "pycharm": {
     "name": "#%%\n"
    }
   },
   "outputs": [],
   "source": [
    "debug = True\n",
    "if debug:\n",
    "  test_df = pd.DataFrame([\n",
    "    {'history_id': 1, 'timestamp': 1, 'conversion_timestamp': -1},\n",
    "    {'history_id': 1, 'timestamp': 2, 'conversion_timestamp': -1},\n",
    "    {'history_id': 1, 'timestamp': 3, 'conversion_timestamp': 6},\n",
    "    {'history_id': 1, 'timestamp': 4, 'conversion_timestamp': 6},\n",
    "    {'history_id': 1, 'timestamp': 7, 'conversion_timestamp': -1},\n",
    "    {'history_id': 1, 'timestamp': 8, 'conversion_timestamp': 10},\n",
    "    {'history_id': 1, 'timestamp': 9, 'conversion_timestamp': 10},\n",
    "    {'history_id': 1, 'timestamp': 11, 'conversion_timestamp': -1},\n",
    "    {'history_id': 1, 'timestamp': 12, 'conversion_timestamp': -1},\n",
    "    {'history_id': 2, 'timestamp': 1, 'conversion_timestamp': -1},\n",
    "    {'history_id': 2, 'timestamp': 2, 'conversion_timestamp': -1},\n",
    "    # Edge case : sometimes (rarely, the conversion is not mapped to the next one)\n",
    "    {'history_id': 3, 'timestamp': 1, 'conversion_timestamp': -1},\n",
    "    {'history_id': 3, 'timestamp': 2, 'conversion_timestamp': 7},\n",
    "    {'history_id': 3, 'timestamp': 3, 'conversion_timestamp': 4},\n",
    "    {'history_id': 3, 'timestamp': 5, 'conversion_timestamp': 7},\n",
    "    {'history_id': 3, 'timestamp': 6, 'conversion_timestamp': 7},\n",
    "  ])\n",
    "  split_test_df = pd.DataFrame([\n",
    "    {'history_id': '1_6', 'timestamp': 1, 'conversion_timestamp': -1},\n",
    "    {'history_id': '1_6', 'timestamp': 2, 'conversion_timestamp': -1},\n",
    "    {'history_id': '1_6', 'timestamp': 3, 'conversion_timestamp': 6},\n",
    "    {'history_id': '1_6', 'timestamp': 4, 'conversion_timestamp': 6},\n",
    "    {'history_id': '1_10', 'timestamp': 7, 'conversion_timestamp': -1},\n",
    "    {'history_id': '1_10', 'timestamp': 8, 'conversion_timestamp': 10},\n",
    "    {'history_id': '1_10', 'timestamp': 9, 'conversion_timestamp': 10},\n",
    "    {'history_id': '1_nnc', 'timestamp': 11, 'conversion_timestamp': -1},\n",
    "    {'history_id': '1_nnc', 'timestamp': 12, 'conversion_timestamp': -1},\n",
    "    {'history_id': '2_nnc', 'timestamp': 1, 'conversion_timestamp': -1},\n",
    "    {'history_id': '2_nnc', 'timestamp': 2, 'conversion_timestamp': -1},\n",
    "    # Edge case\n",
    "    {'history_id': '3_4', 'timestamp': 1, 'conversion_timestamp': -1},\n",
    "    {'history_id': '3_7', 'timestamp': 2, 'conversion_timestamp': 7},\n",
    "    {'history_id': '3_4', 'timestamp': 3, 'conversion_timestamp': 4},\n",
    "    {'history_id': '3_7', 'timestamp': 5, 'conversion_timestamp': 7},\n",
    "    {'history_id': '3_7', 'timestamp': 6, 'conversion_timestamp': 7},\n",
    "  ])\n",
    "  assert split_test_df.equals(split_histories(test_df))"
   ]
  },
  {
   "cell_type": "code",
   "execution_count": 9,
   "metadata": {
    "collapsed": false,
    "execution": {
     "iopub.execute_input": "2021-05-11T18:16:03.988190Z",
     "iopub.status.busy": "2021-05-11T18:16:03.987781Z",
     "iopub.status.idle": "2021-05-11T18:16:03.989047Z",
     "shell.execute_reply": "2021-05-11T18:16:03.989373Z"
    },
    "jupyter": {
     "outputs_hidden": false
    },
    "pycharm": {
     "name": "#%%\n"
    }
   },
   "outputs": [],
   "source": [
    "def remove_uncomplete_histories(df):\n",
    "  \"\"\"Since the data set consists of 30 consecutive days, it contains some histories that\n",
    "  had started before and hence are uncomplete in our training example.\n",
    "  For the sake of simplicity, we remove them.\n",
    "  \"\"\"\n",
    "  # First assert that for all histories, if a display is associated to a conversion (click_nb > 0)\n",
    "  # then, all click displays share the same click number\n",
    "  click_nb_check_df = df[df['click_nb'] > 0].groupby('history_id').agg({'click_nb': lambda x: len(set(x))})\n",
    "  assert np.all(click_nb_check_df['click_nb'] == 1)\n",
    "\n",
    "  click_nb_in_histories = df.groupby('history_id').agg({'click': 'sum'})\n",
    "  click_nb_in_histories.rename(columns={'click': 'click_nb_in_history'}, inplace=True)\n",
    "\n",
    "  df_with_click_nb = df.merge(click_nb_in_histories, on='history_id', how='outer', validate=\"many_to_one\")\n",
    "\n",
    "  # We keep if there is either no click or if all clicks are available\n",
    "  keep_display = (df_with_click_nb['click_nb'] == -1) | (df_with_click_nb['click_nb_in_history'] == df_with_click_nb['click_nb'])\n",
    "  filtered_df = df_with_click_nb[keep_display].reset_index()\n",
    "\n",
    "  original_column_order = df.columns\n",
    "  return filtered_df[original_column_order]"
   ]
  },
  {
   "cell_type": "code",
   "execution_count": 10,
   "metadata": {
    "collapsed": false,
    "execution": {
     "iopub.execute_input": "2021-05-11T18:16:04.005910Z",
     "iopub.status.busy": "2021-05-11T18:16:04.002590Z",
     "iopub.status.idle": "2021-05-11T18:16:04.007209Z",
     "shell.execute_reply": "2021-05-11T18:16:04.007550Z"
    },
    "jupyter": {
     "outputs_hidden": false
    },
    "pycharm": {
     "name": "#%%\n"
    }
   },
   "outputs": [],
   "source": [
    "debug = True\n",
    "if debug:\n",
    "  test_df = pd.DataFrame([\n",
    "    {'history_id': 1, 'click': 0, 'click_nb': -1},\n",
    "    {'history_id': 1, 'click': 0, 'click_nb': -1},\n",
    "    {'history_id': 1, 'click': 0, 'click_nb': -1},\n",
    "    {'history_id': 2, 'click': 0, 'click_nb': -1},\n",
    "    {'history_id': 2, 'click': 1, 'click_nb': 2},\n",
    "    {'history_id': 2, 'click': 1, 'click_nb': 2},\n",
    "    {'history_id': 3, 'click': 1, 'click_nb': 3},\n",
    "    {'history_id': 3, 'click': 1, 'click_nb': 3},\n",
    "    {'history_id': 3, 'click': 0, 'click_nb': -1},\n",
    "  ])\n",
    "  removed_uncomplete_test_df = pd.DataFrame([\n",
    "    {'history_id': 1, 'click': 0, 'click_nb': -1},\n",
    "    {'history_id': 1, 'click': 0, 'click_nb': -1},\n",
    "    {'history_id': 1, 'click': 0, 'click_nb': -1},\n",
    "    {'history_id': 2, 'click': 0, 'click_nb': -1},\n",
    "    {'history_id': 2, 'click': 1, 'click_nb': 2},\n",
    "    {'history_id': 2, 'click': 1, 'click_nb': 2},\n",
    "    {'history_id': 3, 'click': 0, 'click_nb': -1},\n",
    "  ])\n",
    "  assert removed_uncomplete_test_df.equals(remove_uncomplete_histories(test_df))"
   ]
  },
  {
   "cell_type": "code",
   "execution_count": 11,
   "metadata": {
    "collapsed": false,
    "execution": {
     "iopub.execute_input": "2021-05-11T18:16:04.013060Z",
     "iopub.status.busy": "2021-05-11T18:16:04.012650Z",
     "iopub.status.idle": "2021-05-11T18:16:04.013894Z",
     "shell.execute_reply": "2021-05-11T18:16:04.014218Z"
    },
    "jupyter": {
     "outputs_hidden": false
    },
    "pycharm": {
     "name": "#%%\n"
    }
   },
   "outputs": [],
   "source": [
    "def get_nb_clicks(df):\n",
    "  \"\"\"Get the total number of clicks made by this history_id so far\n",
    "  \"\"\"\n",
    "  click_timestamps = df[df['click'] == 1].groupby('history_id').agg({'timestamp': lambda x: sorted(list(set(x)))})\n",
    "  click_timestamps.rename(columns={'timestamp': 'click_timestamps'}, inplace=True)\n",
    "\n",
    "  def get_nb_clicks_for_history_id(row):\n",
    "    if isinstance(row['click_timestamps'], list) and len(row['click_timestamps']) > 0:\n",
    "      return np.searchsorted(row['click_timestamps'], row['timestamp'])\n",
    "    else:\n",
    "      return 0\n",
    "\n",
    "  df_with_ct = df.merge(click_timestamps, on='history_id', how='outer', validate=\"many_to_one\")\n",
    "  df_with_ct['nb_clicks'] = df_with_ct.apply(get_nb_clicks_for_history_id, axis=1)\n",
    "  \n",
    "  original_column_order = list(df.columns) + ['nb_clicks']\n",
    "  return df_with_ct[original_column_order]"
   ]
  },
  {
   "cell_type": "code",
   "execution_count": 12,
   "metadata": {
    "collapsed": false,
    "execution": {
     "iopub.execute_input": "2021-05-11T18:16:04.033077Z",
     "iopub.status.busy": "2021-05-11T18:16:04.032582Z",
     "iopub.status.idle": "2021-05-11T18:16:04.033526Z",
     "shell.execute_reply": "2021-05-11T18:16:04.033869Z"
    },
    "jupyter": {
     "outputs_hidden": false
    },
    "pycharm": {
     "name": "#%%\n"
    }
   },
   "outputs": [],
   "source": [
    "debug = True\n",
    "if debug:\n",
    "  test_df = pd.DataFrame([\n",
    "    {'history_id': 1, 'timestamp': 1, 'click': 0},\n",
    "    {'history_id': 1, 'timestamp': 2, 'click': 0},\n",
    "    {'history_id': 1, 'timestamp': 3, 'click': 1},\n",
    "    {'history_id': 1, 'timestamp': 4, 'click': 1},\n",
    "    {'history_id': 1, 'timestamp': 7, 'click': 0},\n",
    "    {'history_id': 1, 'timestamp': 8, 'click': 1},\n",
    "    {'history_id': 1, 'timestamp': 9, 'click': 1},\n",
    "    {'history_id': 1, 'timestamp': 11, 'click': 0},\n",
    "    {'history_id': 1, 'timestamp': 12, 'click': 0},\n",
    "    {'history_id': 2, 'timestamp': 1, 'click': 0},\n",
    "    {'history_id': 2, 'timestamp': 2, 'click': 0},\n",
    "  ])\n",
    "  nb_clicks_test_df = pd.DataFrame([\n",
    "    {'history_id': 1, 'timestamp': 1, 'click': 0, \"nb_clicks\": 0},\n",
    "    {'history_id': 1, 'timestamp': 2, 'click': 0, \"nb_clicks\": 0},\n",
    "    {'history_id': 1, 'timestamp': 3, 'click': 1, \"nb_clicks\": 0},\n",
    "    {'history_id': 1, 'timestamp': 4, 'click': 1, \"nb_clicks\": 1},\n",
    "    {'history_id': 1, 'timestamp': 7, 'click': 0, \"nb_clicks\": 2},\n",
    "    {'history_id': 1, 'timestamp': 8, 'click': 1, \"nb_clicks\": 2},\n",
    "    {'history_id': 1, 'timestamp': 9, 'click': 1, \"nb_clicks\": 3},\n",
    "    {'history_id': 1, 'timestamp': 11, 'click': 0, \"nb_clicks\": 4},\n",
    "    {'history_id': 1, 'timestamp': 12, 'click': 0, \"nb_clicks\": 4},\n",
    "    {'history_id': 2, 'timestamp': 1, 'click': 0, \"nb_clicks\": 0},\n",
    "    {'history_id': 2, 'timestamp': 2, 'click': 0, \"nb_clicks\": 0},\n",
    "  ])\n",
    "  assert nb_clicks_test_df.equals(get_nb_clicks(test_df))"
   ]
  },
  {
   "cell_type": "markdown",
   "metadata": {},
   "source": [
    "### Enrich dataset"
   ]
  },
  {
   "cell_type": "code",
   "execution_count": 13,
   "metadata": {
    "collapsed": false,
    "execution": {
     "iopub.execute_input": "2021-05-11T18:16:04.041681Z",
     "iopub.status.busy": "2021-05-11T18:16:04.041246Z",
     "iopub.status.idle": "2021-05-11T18:16:04.042938Z",
     "shell.execute_reply": "2021-05-11T18:16:04.043271Z"
    },
    "jupyter": {
     "outputs_hidden": false
    },
    "pycharm": {
     "name": "#%%\n"
    }
   },
   "outputs": [],
   "source": [
    "CACHE_DIRECTORY = 'cache'\n",
    "\n",
    "\n",
    "def get_preprocessed_dataset(original_df, use_cache=True):\n",
    "  \"\"\"Apply all preprocessing on the original data set\n",
    "  \"\"\"\n",
    "  # For an easier experimentation, we cache the preprocessed data\n",
    "  df_identifier = '_'.join(map(str, original_df.shape))\n",
    "  cache_path = os.path.join(CACHE_DIRECTORY, df_identifier, 'preprocess.pkl')\n",
    "  if os.path.exists(cache_path) and use_cache:\n",
    "    df = pd.read_pickle(cache_path)\n",
    "\n",
    "  else:\n",
    "    df = original_df.copy()\n",
    "\n",
    "    # Consider each campaign independently\n",
    "    df['history_id'] = df['uid'].astype(str) + '_' + df['campaign'].astype(str)\n",
    "\n",
    "    # Apply previously introduced preprocessings\n",
    "    df = split_histories(df)\n",
    "    df = remove_uncomplete_histories(df)\n",
    "    df = get_nb_clicks(df)\n",
    "\n",
    "    # Add extra row variables\n",
    "    df['day'] = np.floor(df['timestamp'] / 86400.).astype(int)\n",
    "\n",
    "    # We bucketize time since last click such that all buckets have a sufficient amount of displays\n",
    "    df['time_since_last_click_bucketized'] = np.where(\n",
    "      df['time_since_last_click'] == -1, -1,\n",
    "      np.where(\n",
    "        df['time_since_last_click'] < 20 * 3600,\n",
    "        np.log(1 + df['time_since_last_click'] / 60).astype(int),\n",
    "        7 + (df['time_since_last_click'] / (2 * 24 * 3600)).astype(int)\n",
    "      )\n",
    "    )\n",
    "\n",
    "    # Add last click attribution\n",
    "    df['last_click'] = df['attribution'] * (df['click_pos'] == df['click_nb'] - 1).astype(int)\n",
    "\n",
    "    # Precompute the total reward per history_id (called R in the paper)\n",
    "    total_history_id_reward = df.groupby('history_id').agg({'last_click': 'sum'})\n",
    "    total_history_id_reward.columns = ['total_history_id_rewards']\n",
    "    df = df.merge(total_history_id_reward, on='history_id', how='outer', validate=\"many_to_one\")\n",
    "\n",
    "    # Save preprocessed data to cache folder\n",
    "    os.makedirs(os.path.dirname(cache_path), exist_ok=True)\n",
    "    df.to_pickle(cache_path)\n",
    "  \n",
    "  # assert there is at most one conversion per history\n",
    "  assert set(df['total_history_id_rewards'].unique()) == {0, 1}\n",
    "\n",
    "  return df"
   ]
  },
  {
   "cell_type": "code",
   "execution_count": 14,
   "metadata": {
    "execution": {
     "iopub.execute_input": "2021-05-11T18:16:04.045907Z",
     "iopub.status.busy": "2021-05-11T18:16:04.045500Z",
     "iopub.status.idle": "2021-05-11T19:01:34.438539Z",
     "shell.execute_reply": "2021-05-11T19:01:34.438914Z"
    }
   },
   "outputs": [],
   "source": [
    "preprocessed_dataset = get_preprocessed_dataset(sampled_dataset, use_cache=True)"
   ]
  },
  {
   "cell_type": "markdown",
   "metadata": {},
   "source": [
    "### Dataset statistics"
   ]
  },
  {
   "cell_type": "code",
   "execution_count": 15,
   "metadata": {
    "collapsed": false,
    "execution": {
     "iopub.execute_input": "2021-05-11T19:01:34.444140Z",
     "iopub.status.busy": "2021-05-11T19:01:34.443774Z",
     "iopub.status.idle": "2021-05-11T19:02:39.668420Z",
     "shell.execute_reply": "2021-05-11T19:02:39.668769Z"
    },
    "jupyter": {
     "outputs_hidden": false
    },
    "pycharm": {
     "name": "#%%\n"
    }
   },
   "outputs": [
    {
     "name": "stdout",
     "output_type": "stream",
     "text": [
      "The dataset consists in 16468027 displays from 6142256 histories among which 179803 converted\n",
      "The dataset consists in 16256483 displays from 8015218 histories among which 195800 converted\n"
     ]
    }
   ],
   "source": [
    "def print_stats(df, history_id):\n",
    "  df = df.copy()\n",
    "  n_displays = len(df)\n",
    "  n_users = len(df[history_id].unique())\n",
    "  n_conversions = sum(df.groupby(history_id).agg({'attribution': 'sum'}).values.ravel() > 0)\n",
    "  print(f'The dataset consists in {n_displays} displays from {n_users} histories among which {n_conversions} converted')\n",
    "\n",
    "print_stats(sampled_dataset, 'uid')\n",
    "print_stats(preprocessed_dataset, 'history_id')"
   ]
  },
  {
   "cell_type": "code",
   "execution_count": 16,
   "metadata": {
    "collapsed": false,
    "execution": {
     "iopub.execute_input": "2021-05-11T19:02:39.673394Z",
     "iopub.status.busy": "2021-05-11T19:02:39.673003Z",
     "iopub.status.idle": "2021-05-11T19:02:40.103172Z",
     "shell.execute_reply": "2021-05-11T19:02:40.103509Z"
    },
    "jupyter": {
     "outputs_hidden": false
    },
    "pycharm": {
     "name": "#%%\n"
    }
   },
   "outputs": [
    {
     "data": {
      "image/png": "[encoded data removed]",
      "text/plain": [
       "<Figure size 432x288 with 1 Axes>"
      ]
     },
     "metadata": {},
     "output_type": "display_data"
    }
   ],
   "source": [
    "def plot_n_displays_per_day(df):\n",
    "  df.day.hist(bins=len(df.day.unique()))\n",
    "  plt.ylabel('Number of display per day')\n",
    "  plt.xlabel('Day')\n",
    "\n",
    "plot_n_displays_per_day(preprocessed_dataset)"
   ]
  },
  {
   "cell_type": "code",
   "execution_count": 17,
   "metadata": {
    "collapsed": false,
    "execution": {
     "iopub.execute_input": "2021-05-11T19:02:40.109842Z",
     "iopub.status.busy": "2021-05-11T19:02:40.109445Z",
     "iopub.status.idle": "2021-05-11T19:03:14.098024Z",
     "shell.execute_reply": "2021-05-11T19:03:14.098335Z"
    },
    "jupyter": {
     "outputs_hidden": false
    },
    "pycharm": {
     "name": "#%%\n"
    }
   },
   "outputs": [
    {
     "data": {
      "image/png": "[encoded data removed]",
      "text/plain": [
       "<Figure size 1296x288 with 2 Axes>"
      ]
     },
     "metadata": {},
     "output_type": "display_data"
    }
   ],
   "source": [
    "def plot_n_clicks_per_user(df):\n",
    "  groupped_by_user = df.groupby('history_id').agg({'click': ['count', 'sum'], 'attribution': ['sum']})\n",
    "  converted_users = groupped_by_user[groupped_by_user['attribution']['sum'] > 0]\n",
    "\n",
    "  fig, axes = plt.subplots(1, 2, figsize=(18, 4), sharex=True, sharey=True)\n",
    "  max_clicks = 10\n",
    "  groupped_by_user['click']['sum'][groupped_by_user['click']['sum'] < max_clicks].hist(density=True, bins=max_clicks, ax=axes[0])\n",
    "  axes[0].set_title('Number of clicks made by all users')\n",
    "  axes[0].set_xlabel('Number of clicks')\n",
    "  axes[0].set_ylabel('Proportion of users')\n",
    "\n",
    "  converted_users['click']['sum'][converted_users['click']['sum'] < max_clicks].hist(density=True, bins=max_clicks, ax=axes[1])\n",
    "  axes[1].set_title('Number of clicks made by converted users')\n",
    "  axes[1].set_xlabel('Number of clicks')\n",
    "  axes[1].yaxis.set_tick_params(reset=True)\n",
    "  axes[1].set_ylabel('Proportion of users')\n",
    "\n",
    "plot_n_clicks_per_user(preprocessed_dataset)"
   ]
  },
  {
   "cell_type": "markdown",
   "metadata": {},
   "source": [
    "### Featuring"
   ]
  },
  {
   "cell_type": "code",
   "execution_count": 18,
   "metadata": {
    "collapsed": false,
    "execution": {
     "iopub.execute_input": "2021-05-11T19:03:14.106382Z",
     "iopub.status.busy": "2021-05-11T19:03:14.105997Z",
     "iopub.status.idle": "2021-05-11T19:03:14.107810Z",
     "shell.execute_reply": "2021-05-11T19:03:14.108105Z"
    },
    "jupyter": {
     "outputs_hidden": false
    },
    "pycharm": {
     "name": "#%%\n"
    }
   },
   "outputs": [],
   "source": [
    "FEATURES = ['campaign', 'cat1', 'cat2', 'cat3', 'cat4', 'cat5', 'cat6', 'cat7', 'cat8', 'cat9', 'time_since_last_click_bucketized', 'nb_clicks']\n",
    "\n",
    "def features_to_list_of_strings(row):\n",
    "  return [f'{feature}_{row[feature]}' for feature in row.index]\n",
    "\n",
    "\n",
    "def get_labels_and_features(preprocessed_dataset, hash_space=2**13, use_cache=True):\n",
    "  \"\"\"Get labels and features to run machine learning algorithms.\n",
    "  \"\"\"\n",
    "  LABELS_FILE = 'labels.npy'\n",
    "  FEATURES_FILE = 'features.npz'\n",
    "\n",
    "  dataset_identifier = '_'.join(map(str, preprocessed_dataset.shape))\n",
    "  label_features_identifier = f'{\"_\".join(FEATURES)}'\n",
    "  cache_path = os.path.join(CACHE_DIRECTORY, dataset_identifier, label_features_identifier, str(hash_space))\n",
    "  label_cache_path = os.path.join(cache_path, LABELS_FILE)\n",
    "  features_cache_path = os.path.join(cache_path, FEATURES_FILE)\n",
    "  \n",
    "  if use_cache and os.path.exists(label_cache_path) and os.path.exists(features_cache_path):\n",
    "    labels = np.load(label_cache_path)\n",
    "    features = scipy.sparse.load_npz(features_cache_path)\n",
    "\n",
    "  else:\n",
    "    labels = preprocessed_dataset['last_click'].astype(float).values\n",
    "    raw_features = preprocessed_dataset[FEATURES]\n",
    "\n",
    "    # The categorical features are hashed using the hashing trick\n",
    "    features_as_list_of_strings = raw_features.apply(features_to_list_of_strings, axis=1)\n",
    "    hasher = FeatureHasher(n_features=hash_space, input_type='string', alternate_sign=False)\n",
    "    features = hasher.fit_transform(features_as_list_of_strings)\n",
    "    os.makedirs(cache_path, exist_ok=True)\n",
    "    np.save(label_cache_path, labels)\n",
    "    scipy.sparse.save_npz(features_cache_path, features)\n",
    "\n",
    "  return labels, features"
   ]
  },
  {
   "cell_type": "code",
   "execution_count": 19,
   "metadata": {
    "collapsed": false,
    "execution": {
     "iopub.execute_input": "2021-05-11T19:03:14.113140Z",
     "iopub.status.busy": "2021-05-11T19:03:14.112773Z",
     "iopub.status.idle": "2021-05-11T19:03:14.113641Z",
     "shell.execute_reply": "2021-05-11T19:03:14.113994Z"
    },
    "jupyter": {
     "outputs_hidden": false
    },
    "pycharm": {
     "name": "#%%\n"
    }
   },
   "outputs": [],
   "source": [
    "def split_train_test_mask(preprocessed_dataset, ratio=0.8):\n",
    "  \"\"\"We split the dataset into train and test parts by history_id\n",
    "  (learn on a part of the population and test on the other part)\n",
    "  \"\"\"\n",
    "  history_id_and_salt = preprocessed_dataset['history_id'].astype(str) + 'hash_salt_for_train_test_split'\n",
    "  hashed_history_id_and_salt = pd.util.hash_pandas_object(history_id_and_salt, index=False)\n",
    "  random_column_based_on_history_id = hashed_history_id_and_salt / np.iinfo(np.uint64).max\n",
    "  return random_column_based_on_history_id < ratio\n",
    "\n",
    "\n",
    "def get_train_test_labels_and_features(preprocessed_dataset, is_training_mask, hash_space=2**13, use_cache=True):\n",
    "  labels, features = get_labels_and_features(preprocessed_dataset, hash_space=hash_space, use_cache=use_cache)\n",
    "\n",
    "  return (\n",
    "    labels[is_training_mask], features[is_training_mask],\n",
    "    labels[~is_training_mask], features[~is_training_mask],\n",
    "  )"
   ]
  },
  {
   "cell_type": "markdown",
   "metadata": {},
   "source": [
    "## Learning"
   ]
  },
  {
   "cell_type": "code",
   "execution_count": 20,
   "metadata": {
    "collapsed": false,
    "execution": {
     "iopub.execute_input": "2021-05-11T19:03:14.117058Z",
     "iopub.status.busy": "2021-05-11T19:03:14.116699Z",
     "iopub.status.idle": "2021-05-11T19:03:14.117617Z",
     "shell.execute_reply": "2021-05-11T19:03:14.117911Z"
    },
    "jupyter": {
     "outputs_hidden": false
    },
    "pycharm": {
     "name": "#%%\n"
    }
   },
   "outputs": [],
   "source": [
    "# General config for the machine learning models\n",
    "C_REGULARIZATION = 1\n",
    "HASH_SPACE = int(2**13)\n",
    "MAX_ITER = 1000"
   ]
  },
  {
   "cell_type": "markdown",
   "metadata": {},
   "source": [
    "### Last touch attribution"
   ]
  },
  {
   "cell_type": "code",
   "execution_count": 21,
   "metadata": {
    "collapsed": false,
    "execution": {
     "iopub.execute_input": "2021-05-11T19:03:14.121343Z",
     "iopub.status.busy": "2021-05-11T19:03:14.120981Z",
     "iopub.status.idle": "2021-05-11T19:03:14.121725Z",
     "shell.execute_reply": "2021-05-11T19:03:14.122017Z"
    },
    "jupyter": {
     "outputs_hidden": false
    },
    "pycharm": {
     "name": "#%%\n"
    }
   },
   "outputs": [],
   "source": [
    "def train_last_touch_model(labels, features, c_regularization):\n",
    "  last_touch_model = LogisticRegression(max_iter=MAX_ITER, C=c_regularization)\n",
    "  last_touch_model.fit(features, labels)\n",
    "  return last_touch_model"
   ]
  },
  {
   "cell_type": "markdown",
   "metadata": {},
   "source": [
    "### Robust Label Attribution"
   ]
  },
  {
   "cell_type": "markdown",
   "metadata": {},
   "source": [
    "#### Logistic regression with continuous labels"
   ]
  },
  {
   "cell_type": "markdown",
   "metadata": {},
   "source": [
    "We choose Logistic regression from scikit-learn as our ML algorithm. The logistic regression loss that we minimize is\n",
    "\n",
    "$$\n",
    "l(y, p) = \\mathbb{1}_{y = 1} \\log(p) + \\mathbb{1}_{y = 0} \\log(1 - p)\n",
    "$$\n",
    "\n",
    "However, our fixed-point algorithm will make appear continuous labels ($y$ is the result of the label attribution $\\mu$) that cannot be fit with scikit-learn's logistic regression. Indeed, this logisitic regression can only take 0-1 labels as input.\n",
    "\n",
    "A basic extension of logistic regression to learn with a continuous label $y \\in [0, 1]$, consisits in minimizing the binomial loss that writes:\n",
    "\n",
    "$$\n",
    "l(y, p) = y \\log(p) + (1 - y) \\log(1 - p)\n",
    "$$\n",
    "\n",
    "In order to minimize this loss with a logistic regression optimizer, we generate a new dataset in which we duplicate the rows and assign them a weight : a \"positive\" row a label 1 and a weight $y$ and a \"negative\" row with a label 0 and a weight $1 - y$."
   ]
  },
  {
   "cell_type": "code",
   "execution_count": 22,
   "metadata": {
    "collapsed": false,
    "execution": {
     "iopub.execute_input": "2021-05-11T19:03:14.127243Z",
     "iopub.status.busy": "2021-05-11T19:03:14.126871Z",
     "iopub.status.idle": "2021-05-11T19:03:14.127729Z",
     "shell.execute_reply": "2021-05-11T19:03:14.128024Z"
    },
    "jupyter": {
     "outputs_hidden": false
    },
    "pycharm": {
     "name": "#%%\n"
    }
   },
   "outputs": [],
   "source": [
    "class CountinuousLogisticRegression(LogisticRegression):\n",
    "  \n",
    "  @staticmethod\n",
    "  def from_countinuous_to_weighted_binary_labels(labels, features):\n",
    "    \"\"\"Transforms a dataset with continuous labels into a bigger dataset with weighted \n",
    "    binary labels. See explanation above.\n",
    "    \"\"\"\n",
    "    weigths_positive = labels\n",
    "    weigths_negative = 1 - labels\n",
    "    label_positive = np.ones_like(labels)\n",
    "    label_negative = np.zeros_like(labels)\n",
    "\n",
    "    weights = np.hstack((weigths_positive, weigths_negative))\n",
    "    weighted_labels = np.hstack((label_positive, label_negative))\n",
    "    weighted_features = scipy.sparse.vstack((features, features))\n",
    "\n",
    "    mask = (weights > 0)\n",
    "    return weighted_labels[mask], weighted_features[mask], weights[mask]\n",
    "  \n",
    "  def fit(self, X, y):\n",
    "    # 1. Generate dataset, use continuous labels to weighted dataset trick\n",
    "    weighted_labels, weighted_features, weights = self.from_countinuous_to_weighted_binary_labels(y, X)\n",
    "\n",
    "    # 2. Train model\n",
    "    return LogisticRegression.fit(self, weighted_features, weighted_labels, sample_weight=weights)"
   ]
  },
  {
   "cell_type": "markdown",
   "metadata": {},
   "source": [
    "#### Fixed point iterations"
   ]
  },
  {
   "cell_type": "markdown",
   "metadata": {},
   "source": [
    "We are implementing the following fixed-point algorithm\n",
    "\n",
    "1. Generate dataset\n",
    "   $$ \\mathcal{D}^{(k + 1)} \\;\\; = \\;\\; \\big\\{\n",
    "   (x, y) = \\big(x^t_j, \\mu^{(k)}(j, h^t) \\big) \\text{ for } t \\in \\{1, \\dots, T\\}, h^t = \\big[x^t_1, \\dots, x^t_{|h^t|}\\big] \\text{ and } j \\in \\{1, \\dots, |h^t|\\} \n",
    "   \\big\\}$$\n",
    "  \n",
    "2. With a ML algorithm, train $V^{(k + 1)}$ on $\\mathcal{D}^{(k + 1)}$\n",
    "   $$ V^{(k + 1)} \\;\\; = \\;\\; \\bar{x} \\mapsto \\mathbb{E}_{(x, y) \\in \\mathcal{D}^{(k + 1)}} \\big[ y\\; | \\; x = \\bar{x} \\big] $$\n",
    "\n",
    "3. Set $\\mu$ with fixed-point characterization \n",
    "   $$\\mu^{(k + 1)} \\;\\; = \\;\\; (i, h) \\mapsto \\frac{V^{(k + 1)}(h_{[1, \\dots, i]})}{\\sum_{j = 1}^{|h|} V^{(k + 1)}(h_{[1, \\dots, j]})} \\cdot R(h)$$"
   ]
  },
  {
   "cell_type": "code",
   "execution_count": 23,
   "metadata": {
    "collapsed": false,
    "execution": {
     "iopub.execute_input": "2021-05-11T19:03:14.135304Z",
     "iopub.status.busy": "2021-05-11T19:03:14.134885Z",
     "iopub.status.idle": "2021-05-11T19:03:14.135958Z",
     "shell.execute_reply": "2021-05-11T19:03:14.135642Z"
    },
    "jupyter": {
     "outputs_hidden": false
    },
    "pycharm": {
     "name": "#%%\n"
    }
   },
   "outputs": [],
   "source": [
    "def run_one_iteration(labels, features, is_eligible, history_ids, total_history_id_reward, c_regularization):\n",
    "  \"\"\"Return the new labels obtained after one iteration of the robust label attribution\n",
    "  fixed point algorithm\n",
    "  \"\"\"\n",
    "  # In our dataset, we know in advance that many displays will not get any\n",
    "  # credit from the label attribution. Either:\n",
    "  #   1. because they have not been clicked\n",
    "  #   2. because no attributed sales were corresponding to this history_id.\n",
    "  # These displays remain attached with a zero label while the remaining ones\n",
    "  # will have a variable label computed with the fixed point iterations.\n",
    "  to_update_mask = (total_history_id_reward > 0) & is_eligible\n",
    "\n",
    "  labels_to_update, features_to_update = labels[to_update_mask], features[to_update_mask]\n",
    "  \n",
    "  # Step 2, compute valuations\n",
    "  model = CountinuousLogisticRegression(max_iter=MAX_ITER, C=c_regularization)\n",
    "  model.fit(features, labels)\n",
    "  \n",
    "  model_predictions = model.predict_proba(features_to_update)[:, 1]\n",
    "  display_valuation = model_predictions\n",
    "\n",
    "  predictions_per_display_to_update = pd.DataFrame({\n",
    "    'feature_index': np.arange(display_valuation.shape[0]), \n",
    "    'history_id': history_ids[to_update_mask],\n",
    "    'display_valuation': display_valuation,\n",
    "    'total_history_id_rewards': total_history_id_reward[to_update_mask],\n",
    "  })\n",
    "  \n",
    "  # Step 3, compute new labels proportionally to the display valuations\n",
    "  total_history_id_valuation = (\n",
    "    predictions_per_display_to_update\n",
    "    .groupby('history_id')\n",
    "    .agg(total_history_id_valuation=('display_valuation', 'sum'))\n",
    "    .reset_index()\n",
    "  )\n",
    "  \n",
    "  predictions_per_display_to_update = predictions_per_display_to_update.merge(\n",
    "    total_history_id_valuation, on='history_id', how='left')\n",
    "  \n",
    "  # merge shuffles the lines, we must reorder them by feature index\n",
    "  predictions_per_display_to_update.sort_values('feature_index', inplace=True)\n",
    "\n",
    "  # Use fixed point characterization to update the labels\n",
    "  updated_labels = (\n",
    "    predictions_per_display_to_update['display_valuation'] \n",
    "    / predictions_per_display_to_update['total_history_id_valuation'] \n",
    "    * predictions_per_display_to_update['total_history_id_rewards']\n",
    "  ).values\n",
    "\n",
    "  next_labels = labels\n",
    "  next_labels[to_update_mask] = updated_labels\n",
    "\n",
    "  # Ensure we have just spread the labels\n",
    "  np.testing.assert_almost_equal(sum(updated_labels), sum(labels))\n",
    "  np.testing.assert_almost_equal(sum(next_labels), sum(labels))\n",
    "\n",
    "  return model, next_labels"
   ]
  },
  {
   "cell_type": "code",
   "execution_count": 24,
   "metadata": {
    "collapsed": false,
    "execution": {
     "iopub.execute_input": "2021-05-11T19:03:14.141376Z",
     "iopub.status.busy": "2021-05-11T19:03:14.141004Z",
     "iopub.status.idle": "2021-05-11T19:03:14.141782Z",
     "shell.execute_reply": "2021-05-11T19:03:14.142086Z"
    },
    "jupyter": {
     "outputs_hidden": false
    },
    "pycharm": {
     "name": "#%%\n"
    }
   },
   "outputs": [],
   "source": [
    "def get_train_test_extra_robust_label_attribution_attributes(preprocessed_dataset, is_training_mask):\n",
    "  \"\"\"Beyond labels and features, we need histories identifiers to run robust label attribution\n",
    "  \"\"\"\n",
    "  is_clicked, history_ids, total_history_id_rewards = preprocessed_dataset['click'] > 0, preprocessed_dataset['history_id'], preprocessed_dataset['total_history_id_rewards']\n",
    "  return (\n",
    "    is_clicked[is_training_mask], history_ids[is_training_mask], total_history_id_rewards[is_training_mask],\n",
    "    is_clicked[~is_training_mask], history_ids[~is_training_mask], total_history_id_rewards[~is_training_mask],\n",
    "  )\n",
    "\n",
    "\n",
    "def train_robust_label_attribution_model(\n",
    "  n_iterations, labels, features, history_ids, history_rewards, is_eligible, c_regularization, callback=None\n",
    "):\n",
    "  # Initialize the labels with the labels from the training set (set with last touch attribution)\n",
    "  current_labels = labels.astype(float).copy()\n",
    "\n",
    "  for _ in range(n_iterations):\n",
    "    model, current_labels = run_one_iteration(\n",
    "      current_labels, features, is_eligible, history_ids, history_rewards, c_regularization)\n",
    "\n",
    "    if callback is not None:\n",
    "      callback(model)\n",
    "\n",
    "  return model"
   ]
  },
  {
   "cell_type": "markdown",
   "metadata": {},
   "source": [
    "## Metrics"
   ]
  },
  {
   "cell_type": "markdown",
   "metadata": {},
   "source": [
    "### Additivity likelihood"
   ]
  },
  {
   "cell_type": "markdown",
   "metadata": {},
   "source": [
    "We call additivity likelihood\n",
    "\n",
    "$$\n",
    "\\mathcal{L}^{\\sf A}(V) = \n",
    "\\dfrac{1}{T} \\sum \\limits_{t} \\left[ y_t \\cdot \\ln \\left(\\sum_{q =1}^{|h^t|} V \\big(h^t_{[1, \\dots q]} \\big) \\right) - \\sum_{q=1}^{[h^t|} V \\big(h^t_{[1, \\dots q]} \\big) \\right]\n",
    "$$\n",
    "\n",
    "We can use it to check whether the algorithm convergesand to evaluate the quality the output, see Section 5.1."
   ]
  },
  {
   "cell_type": "code",
   "execution_count": 25,
   "metadata": {
    "collapsed": false,
    "execution": {
     "iopub.execute_input": "2021-05-11T19:03:14.147340Z",
     "iopub.status.busy": "2021-05-11T19:03:14.146967Z",
     "iopub.status.idle": "2021-05-11T19:03:14.147732Z",
     "shell.execute_reply": "2021-05-11T19:03:14.148024Z"
    },
    "jupyter": {
     "outputs_hidden": false
    },
    "pycharm": {
     "name": "#%%\n"
    }
   },
   "outputs": [],
   "source": [
    "def additivity_likelihood(model_or_predictions, features, history_ids, history_id_rewards):\n",
    "  # Get model predictions for all displays\n",
    "  if hasattr(model_or_predictions, 'predict_proba'):\n",
    "    model_predictions = model_or_predictions.predict_proba(features)[:, 1]\n",
    "  else:\n",
    "    model_predictions = model_or_predictions\n",
    "\n",
    "  # Gather the attributions per history and obtain the sum of the predictions per history\n",
    "  predictions_per_display = pd.DataFrame({\n",
    "    'history_id': history_ids,\n",
    "    'prediction': model_predictions,\n",
    "    'history_id_reward': history_id_rewards,\n",
    "  })\n",
    "\n",
    "  sum_predictions_by_history = (\n",
    "    predictions_per_display\n",
    "    .groupby('history_id')\n",
    "    .agg({'prediction': 'sum', 'history_id_reward': 'first'})\n",
    "    .reset_index()\n",
    "  )\n",
    "  sum_predictions_by_history.columns = ['history_id', 'sum_predictions', 'history_id_reward']\n",
    "\n",
    "  additivity_llh = (\n",
    "    sum_predictions_by_history['history_id_reward']\n",
    "    * np.log(sum_predictions_by_history['sum_predictions'])\n",
    "    - sum_predictions_by_history['sum_predictions']\n",
    "  )\n",
    "\n",
    "  return additivity_llh.mean()\n"
   ]
  },
  {
   "cell_type": "markdown",
   "metadata": {},
   "source": [
    "### Conversion probability\n",
    "\n",
    "the proposed conversion probability of a history can be written with our notations as follows\n",
    "$$\n",
    "\\mathbb{P}(R^t = 1) = \\bigg( 1 - \\prod_{q = 1}^{|h^t|} \\big( 1 - V (x^t_q \\;| \\; h^t_{[1, \\dots q-1]}) \\big) \\bigg) \\cdot \\delta^{|h^t|}\n",
    "$$\n",
    "Here, $\\mathbb{P}(R^t = 1)$ denotes the probability that a history $h^t$ leads to a conversion which is a binary reward, and for each display in the history $h^t=[x^t_1, \\dots, x^t_{|h|}]$, we identify conversion probability of $x^t_q$ with its valuation $V(x^t_q \\;| \\; h^t_{[1, \\dots q-1]})$. The first term in brackets represents the probability that at least one display leads to a conversion assuming zero interaction effects. The second term $\\delta^{|h^t|}$ accounts for the marginally decreasing effect of each ad.\n",
    "\n",
    "See Section 5.3.3, Performance."
   ]
  },
  {
   "cell_type": "code",
   "execution_count": 26,
   "metadata": {
    "execution": {
     "iopub.execute_input": "2021-05-11T19:03:14.153521Z",
     "iopub.status.busy": "2021-05-11T19:03:14.153143Z",
     "iopub.status.idle": "2021-05-11T19:03:14.153988Z",
     "shell.execute_reply": "2021-05-11T19:03:14.154282Z"
    }
   },
   "outputs": [],
   "source": [
    "def conversion_probabilities(model, features, history_ids, history_id_rewards, delta=0.95):\n",
    "  \"\"\"Compute conversion probability for each history id\n",
    "  \"\"\"\n",
    "  # Get model predictions for all displays\n",
    "  model_predictions = model.predict_proba(features)[:, 1]\n",
    "\n",
    "  # Gather the attributions per history and obtain the sum of the predictions per history\n",
    "  predictions_per_display = pd.DataFrame({\n",
    "    'history_id': history_ids,\n",
    "    'prediction': model_predictions,\n",
    "    'history_id_reward': history_id_rewards,\n",
    "  })\n",
    "\n",
    "  # the following is equivalent to apply compute_conversion_proba function (but much faster)\n",
    "  # def compute_conversion_proba(predictions):\n",
    "  #   conversion_proba_with_no_interaction = 1 - np.prod([\n",
    "  #     (1 - prediction) for prediction in predictions\n",
    "  #   ])\n",
    "  #   decay_factor = delta ** len(predictions)\n",
    "  #   return conversion_proba_with_no_interaction * decay_factor\n",
    "\n",
    "  predictions_per_display['no_conversion'] = 1 - predictions_per_display['prediction']\n",
    "\n",
    "  conversion_proba_by_history = (\n",
    "    predictions_per_display\n",
    "    .groupby('history_id')\n",
    "    .agg({'no_conversion': ['prod', 'count'], 'history_id_reward': 'first'})\n",
    "    .reset_index()\n",
    "  )\n",
    "\n",
    "  conversion_proba_by_history['conversion_proba'] = (\n",
    "    (1 - conversion_proba_by_history[('no_conversion', 'prod')])\n",
    "    * (delta ** conversion_proba_by_history[('no_conversion', 'count')])\n",
    "  )\n",
    "\n",
    "  return (\n",
    "    conversion_proba_by_history[('history_id_reward', 'first')],\n",
    "    conversion_proba_by_history['conversion_proba'],\n",
    "  )\n",
    "\n",
    "# From these conversion probabilities, one can compute the following metric used \n",
    "# to evaluate binary classifications.\n",
    "def average_precision(labels, predictions):\n",
    "  return sklearn.metrics.average_precision_score(labels, predictions)"
   ]
  },
  {
   "cell_type": "markdown",
   "metadata": {},
   "source": [
    "We then aggregate all the two metrics"
   ]
  },
  {
   "cell_type": "code",
   "execution_count": 27,
   "metadata": {
    "execution": {
     "iopub.execute_input": "2021-05-11T19:03:14.158001Z",
     "iopub.status.busy": "2021-05-11T19:03:14.157640Z",
     "iopub.status.idle": "2021-05-11T19:03:14.158400Z",
     "shell.execute_reply": "2021-05-11T19:03:14.158716Z"
    }
   },
   "outputs": [],
   "source": [
    "def compute_metrics(model, features, history_ids, history_rewards):\n",
    "  conversion_labels, conversion_probas = conversion_probabilities(model, features, history_ids, history_rewards)\n",
    "    \n",
    "  return {\n",
    "    'additivity_likelihood': additivity_likelihood(model, features, history_ids, history_rewards),\n",
    "    'average_precision': average_precision(conversion_labels, conversion_probas),\n",
    "  }"
   ]
  },
  {
   "cell_type": "markdown",
   "metadata": {},
   "source": [
    "## Experiments : compare last touch and robust last attributions"
   ]
  },
  {
   "cell_type": "code",
   "execution_count": 28,
   "metadata": {
    "execution": {
     "iopub.execute_input": "2021-05-11T19:03:14.167249Z",
     "iopub.status.busy": "2021-05-11T19:03:14.166002Z",
     "iopub.status.idle": "2021-05-11T19:03:14.168742Z",
     "shell.execute_reply": "2021-05-11T19:03:14.168434Z"
    }
   },
   "outputs": [],
   "source": [
    "cache_results_dir = 'cache_results'\n",
    "\n",
    "def get_display_valuations_path(debug_sample, hash_space, c_regularization):\n",
    "  file_path = os.path.join(cache_results_dir, f'sample_{debug_sample}', f'C={c_regularization}', f'hash_space={int(hash_space)}', 'display_valuations.csv')\n",
    "  os.makedirs(os.path.dirname(file_path), exist_ok=True)\n",
    "  return file_path\n",
    "\n",
    "def get_metrics_path(debug_sample, hash_space, c_regularization):\n",
    "  file_path = os.path.join(cache_results_dir, f'sample_{debug_sample}', f'C={c_regularization}', f'hash_space={int(hash_space)}', 'metrics.csv')\n",
    "  os.makedirs(os.path.dirname(file_path), exist_ok=True)\n",
    "  return file_path\n",
    "\n",
    "def get_conversion_probabilities_path(debug_sample, hash_space, c_regularization, model_name):\n",
    "  file_path = os.path.join(cache_results_dir, f'sample_{debug_sample}', f'C={c_regularization}', f'hash_space={int(hash_space)}', 'conversion_probabilities', f'{model_name}.csv')\n",
    "  os.makedirs(os.path.dirname(file_path), exist_ok=True)\n",
    "  return file_path\n",
    "\n",
    "def get_last_touch_model_path(debug_sample, hash_space, c_regularization):\n",
    "  file_path = os.path.join(cache_results_dir, f'sample_{debug_sample}', f'C={c_regularization}', f'hash_space={int(hash_space)}', 'last_touch_model.joblib')\n",
    "  os.makedirs(os.path.dirname(file_path), exist_ok=True)\n",
    "  return file_path\n",
    "\n",
    "def get_robust_label_attribution_model_path(debug_sample, hash_space, c_regularization):\n",
    "  file_path = os.path.join(cache_results_dir, f'sample_{debug_sample}', f'C={c_regularization}', f'hash_space={int(hash_space)}', 'robust_label_attribution_model.joblib')\n",
    "  os.makedirs(os.path.dirname(file_path), exist_ok=True)\n",
    "  return file_path\n",
    "\n",
    "def get_valuations_given_time_since_last_click_path(debug_sample, hash_space, c_regularization):\n",
    "  file_path = os.path.join(cache_results_dir, f'sample_{debug_sample}', f'C={c_regularization}', f'hash_space={int(hash_space)}', 'valuations_given_time_since_last_click.csv')\n",
    "  os.makedirs(os.path.dirname(file_path), exist_ok=True)\n",
    "  return file_path\n",
    "\n",
    "def get_valuations_given_number_of_clicks_path(debug_sample, hash_space, c_regularization):\n",
    "  file_path = os.path.join(cache_results_dir, f'sample_{debug_sample}', f'C={c_regularization}', f'hash_space={int(hash_space)}', f'valuations_given_number_of_clicks.csv')\n",
    "  os.makedirs(os.path.dirname(file_path), exist_ok=True)\n",
    "  return file_path\n",
    "\n",
    "def get_metrics_with_hashspace_path(debug_sample, c_regularization):\n",
    "  file_path = os.path.join(cache_results_dir, f'sample_{debug_sample}', f'C={c_regularization}', 'metrics_with_hashspace.csv')\n",
    "  os.makedirs(os.path.dirname(file_path), exist_ok=True)\n",
    "  return file_path"
   ]
  },
  {
   "cell_type": "markdown",
   "metadata": {
    "jupyter": {
     "outputs_hidden": false
    },
    "pycharm": {
     "name": "#%%\n"
    }
   },
   "source": [
    "### For one feature space size"
   ]
  },
  {
   "cell_type": "code",
   "execution_count": 29,
   "metadata": {
    "collapsed": false,
    "execution": {
     "iopub.execute_input": "2021-05-11T19:03:14.175543Z",
     "iopub.status.busy": "2021-05-11T19:03:14.175158Z",
     "iopub.status.idle": "2021-05-11T23:41:37.531612Z",
     "shell.execute_reply": "2021-05-11T23:41:37.531953Z"
    },
    "jupyter": {
     "outputs_hidden": false
    },
    "pycharm": {
     "name": "#%%\n"
    }
   },
   "outputs": [
    {
     "name": "stdout",
     "output_type": "stream",
     "text": [
      "CPU times: user 4h 14min 26s, sys: 24min 3s, total: 4h 38min 30s\n",
      "Wall time: 4h 38min 23s\n"
     ]
    }
   ],
   "source": [
    "%%time\n",
    "\n",
    "def launch_experiment(n_iterations, preprocessed_dataset, debug_sample, hash_space, c_regularization):\n",
    "  # Load data\n",
    "  is_training_mask = split_train_test_mask(preprocessed_dataset)\n",
    "  (\n",
    "    train_labels, train_features,\n",
    "    test_labels, test_features\n",
    "  ) = get_train_test_labels_and_features(preprocessed_dataset, is_training_mask, hash_space=hash_space, use_cache=True)\n",
    "  (\n",
    "    is_clicked_train, history_ids_train, total_history_id_rewards_train,\n",
    "    is_clicked_test, history_ids_test, total_history_id_rewards_test,\n",
    "  ) = get_train_test_extra_robust_label_attribution_attributes(preprocessed_dataset, is_training_mask)\n",
    "  \n",
    "  # Train last touch\n",
    "  last_touch_model = train_last_touch_model(train_labels, train_features, c_regularization)\n",
    "  joblib.dump(last_touch_model, get_last_touch_model_path(debug_sample, hash_space, c_regularization))\n",
    "  \n",
    "  # Train robust label attribution and collect metrics accross iterations\n",
    "  display_valuations = []\n",
    "  metrics = {}\n",
    "  \n",
    "  # Get some displays with a non zero attribution value to display there valuations.\n",
    "  n_selected_displays = 9\n",
    "  selected_displays = (total_history_id_rewards_train > 0) & (np.cumsum(total_history_id_rewards_train) < n_selected_displays)\n",
    "  \n",
    "  def metric_callback(model, display_valuations, metrics):\n",
    "    train_metrics = compute_metrics(model, train_features, history_ids_train, total_history_id_rewards_train)\n",
    "    for label, metric in train_metrics.items():\n",
    "      metrics[f'train_{label}'] = metrics.get(f'train_{label}', []) + [metric]\n",
    "      \n",
    "    test_metrics = compute_metrics(model, test_features, history_ids_test, total_history_id_rewards_test)\n",
    "    for label, metric in test_metrics.items():\n",
    "      metrics[f'test_{label}'] = metrics.get(f'test_{label}', []) + [metric]\n",
    "    \n",
    "    display_valuations += [{\n",
    "      f'Display {i}': model.predict_proba(train_features[i])[0, 1]\n",
    "      for i in range(n_selected_displays)\n",
    "    }]\n",
    "\n",
    "  robust_label_attribution_model = train_robust_label_attribution_model(\n",
    "    n_iterations, train_labels, train_features, history_ids_train, total_history_id_rewards_train, is_clicked_train, c_regularization, \n",
    "    callback=lambda model, display_valuations=display_valuations, metrics=metrics: metric_callback(model, display_valuations, metrics),\n",
    "  )\n",
    "  joblib.dump(robust_label_attribution_model, get_robust_label_attribution_model_path(debug_sample, hash_space, c_regularization))\n",
    "  \n",
    "  pd.DataFrame(display_valuations).to_csv(get_display_valuations_path(debug_sample, hash_space, c_regularization), index=False)\n",
    "  pd.DataFrame(metrics).to_csv(get_metrics_path(debug_sample, hash_space, c_regularization), index=False)\n",
    "  \n",
    "  # Save conversion probabilities to draw precision-recall curve\n",
    "  def save_conversion_probabilities(save_path, model, features, history_ids, history_rewards, delta=0.95):\n",
    "    conversion_labels, conversion_probas = conversion_probabilities(model, features, history_ids, history_rewards)\n",
    "    joblib.dump((conversion_labels, conversion_probas), save_path)\n",
    "  \n",
    "  for model, model_name in [\n",
    "    (last_touch_model, 'last_touch_model'), \n",
    "    (robust_label_attribution_model, 'robust_label_attribution_model')\n",
    "  ]:\n",
    "    for mode in ['train', 'test']:\n",
    "      save_path = get_conversion_probabilities_path(debug_sample, hash_space, c_regularization, f'{model_name}_{mode}')\n",
    "      save_conversion_probabilities(\n",
    "        save_path, model, \n",
    "        train_features if mode == 'train' else test_features,\n",
    "        history_ids_train if mode == 'train' else history_ids_test,\n",
    "        total_history_id_rewards_train if mode == 'train' else total_history_id_rewards_test,\n",
    "      )\n",
    "\n",
    "launch_experiment(10, preprocessed_dataset, DEBUG_SAMPLE, HASH_SPACE, C_REGULARIZATION)"
   ]
  },
  {
   "cell_type": "code",
   "execution_count": 30,
   "metadata": {
    "collapsed": false,
    "execution": {
     "iopub.execute_input": "2021-05-11T23:41:37.544930Z",
     "iopub.status.busy": "2021-05-11T23:41:37.544475Z",
     "iopub.status.idle": "2021-05-11T23:41:37.871930Z",
     "shell.execute_reply": "2021-05-11T23:41:37.872254Z"
    },
    "jupyter": {
     "outputs_hidden": false
    },
    "pycharm": {
     "name": "#%%\n"
    }
   },
   "outputs": [
    {
     "data": {
      "image/png": "[encoded data removed]",
      "text/plain": [
       "<Figure size 432x288 with 1 Axes>"
      ]
     },
     "metadata": {},
     "output_type": "display_data"
    }
   ],
   "source": [
    "def plot_display_valuation(display_valuations_df, ax):\n",
    "  display_types = sorted(list(display_valuations_df.columns))\n",
    "  for display_type in display_types:\n",
    "    ax.plot(display_valuations_df[display_type], label=display_type)\n",
    "\n",
    "  ax.set_title('Convergence of display valuations')\n",
    "  ax.set_ylabel('Display valuation $V^{(k)}$')\n",
    "  ax.set_xlabel('iteration number k')\n",
    "  ax.set_yscale('log')\n",
    "  ax.set_ylim([None, ax.get_ylim()[1] * (ax.get_ylim()[1] / ax.get_ylim()[0]) ** 0.5]) # Add some space at the top\n",
    "  ax.legend(loc='upper right', ncol=3)\n",
    "\n",
    "fig, ax = plt.subplots(1, 1)\n",
    "display_valuations_df = pd.read_csv(get_display_valuations_path(DEBUG_SAMPLE, HASH_SPACE, C_REGULARIZATION))\n",
    "plot_display_valuation(display_valuations_df, ax)"
   ]
  },
  {
   "cell_type": "code",
   "execution_count": 31,
   "metadata": {
    "collapsed": false,
    "execution": {
     "iopub.execute_input": "2021-05-11T23:41:37.885377Z",
     "iopub.status.busy": "2021-05-11T23:41:37.883319Z",
     "iopub.status.idle": "2021-05-11T23:41:38.117778Z",
     "shell.execute_reply": "2021-05-11T23:41:38.118075Z"
    },
    "jupyter": {
     "outputs_hidden": false
    },
    "pycharm": {
     "name": "#%%\n"
    }
   },
   "outputs": [
    {
     "data": {
      "image/png": "[encoded data removed]",
      "text/plain": [
       "<Figure size 720x288 with 2 Axes>"
      ]
     },
     "metadata": {},
     "output_type": "display_data"
    }
   ],
   "source": [
    "def plot_additivity_likelihood(additivity_likelihoods, ax):\n",
    "  ax.plot(range(1, len(additivity_likelihoods) + 1), additivity_likelihoods)\n",
    "  ax.set_ylabel('Additivity likelihood', fontsize=14)\n",
    "  ax.set_xlabel('Iteration number', fontsize=14)\n",
    "\n",
    "  llh_init = additivity_likelihoods[0]\n",
    "  llh_conv = additivity_likelihoods[-1]\n",
    "  ax.scatter(len(additivity_likelihoods), llh_conv, s=60, label=f'robust valuation', c='C0', marker='o')\n",
    "  ax.scatter(1, llh_init, s=60, label=f'last touch valuation', c='C1', marker='x')\n",
    "  ax.legend()\n",
    "\n",
    "fig, axes = plt.subplots(1, 2, figsize=(10, 4))\n",
    "metrics_df = pd.read_csv(get_metrics_path(DEBUG_SAMPLE, HASH_SPACE, C_REGULARIZATION))\n",
    "plot_additivity_likelihood(metrics_df[\"train_additivity_likelihood\"].values, axes[0])\n",
    "axes[0].set_title('on train set')\n",
    "plot_additivity_likelihood(metrics_df[\"test_additivity_likelihood\"].values, axes[1])\n",
    "axes[1].set_title('on test set')\n",
    "fig.tight_layout()"
   ]
  },
  {
   "cell_type": "code",
   "execution_count": 32,
   "metadata": {
    "collapsed": false,
    "execution": {
     "iopub.execute_input": "2021-05-11T23:41:38.122982Z",
     "iopub.status.busy": "2021-05-11T23:41:38.122617Z",
     "iopub.status.idle": "2021-05-11T23:41:38.309509Z",
     "shell.execute_reply": "2021-05-11T23:41:38.309795Z"
    },
    "jupyter": {
     "outputs_hidden": false
    },
    "pycharm": {
     "name": "#%%\n"
    }
   },
   "outputs": [],
   "source": [
    "# Saving figures for paper\n",
    "metrics_df = pd.read_csv(get_metrics_path(DEBUG_SAMPLE, HASH_SPACE, C_REGULARIZATION))\n",
    "\n",
    "fig, ax = plt.subplots(1, 1, figsize=(5, 3))\n",
    "plot_additivity_likelihood(metrics_df[\"train_additivity_likelihood\"].values, ax)\n",
    "fig.subplots_adjust(bottom=0.15, left=0.2, top=0.95, right=0.95)\n",
    "plt.savefig('additive_likelihood_on_train_set.pdf')\n",
    "plt.close(fig)\n",
    "\n",
    "fig, ax = plt.subplots(1, 1, figsize=(5, 3))\n",
    "plot_additivity_likelihood(metrics_df[\"test_additivity_likelihood\"].values, ax)\n",
    "fig.subplots_adjust(bottom=0.15, left=0.2, top=0.95, right=0.95)\n",
    "plt.savefig('additive_likelihood_on_test_set.pdf')\n",
    "plt.close(fig)"
   ]
  },
  {
   "cell_type": "code",
   "execution_count": 33,
   "metadata": {
    "execution": {
     "iopub.execute_input": "2021-05-11T23:41:38.322334Z",
     "iopub.status.busy": "2021-05-11T23:41:38.318690Z",
     "iopub.status.idle": "2021-05-11T23:41:45.095349Z",
     "shell.execute_reply": "2021-05-11T23:41:45.095662Z"
    }
   },
   "outputs": [
    {
     "data": {
      "image/png": "[encoded data removed]",
      "text/plain": [
       "<Figure size 720x288 with 2 Axes>"
      ]
     },
     "metadata": {},
     "output_type": "display_data"
    }
   ],
   "source": [
    "def plot_precision_recall_curve(ca_labels, ca_predictions, lt_labels, lt_predictions, ax):\n",
    "  np.testing.assert_array_equal(ca_labels, lt_labels)\n",
    "  ca_precision, ca_recall, _ = sklearn.metrics.precision_recall_curve(ca_labels, ca_predictions)\n",
    "  ax.plot(ca_precision, ca_recall, label='robust valuation')\n",
    "  lt_precision, lt_recall, _ = sklearn.metrics.precision_recall_curve(lt_labels, lt_predictions)\n",
    "  ax.plot(lt_precision, lt_recall, label='last touch valuation')\n",
    "  \n",
    "  ax.set_ylabel('Precision', fontsize=14)\n",
    "  ax.set_xlabel('Recall', fontsize=14)\n",
    "  ax.legend()\n",
    "\n",
    "fig, axes = plt.subplots(1, 2, figsize=(10, 4))\n",
    "ca_labels, ca_predictions = joblib.load(get_conversion_probabilities_path(DEBUG_SAMPLE, HASH_SPACE, C_REGULARIZATION, 'robust_label_attribution_model_train'))\n",
    "lt_labels, lt_predictions = joblib.load(get_conversion_probabilities_path(DEBUG_SAMPLE, HASH_SPACE, C_REGULARIZATION, 'last_touch_model_train'))\n",
    "plot_precision_recall_curve(ca_labels, ca_predictions, lt_labels, lt_predictions, axes[0])\n",
    "axes[0].set_title('on train set')\n",
    "\n",
    "ca_labels, ca_predictions = joblib.load(get_conversion_probabilities_path(DEBUG_SAMPLE, HASH_SPACE, C_REGULARIZATION, 'robust_label_attribution_model_test'))\n",
    "lt_labels, lt_predictions = joblib.load(get_conversion_probabilities_path(DEBUG_SAMPLE, HASH_SPACE, C_REGULARIZATION, 'last_touch_model_test'))\n",
    "plot_precision_recall_curve(ca_labels, ca_predictions, lt_labels, lt_predictions, axes[1])\n",
    "axes[1].set_title('on test set')\n",
    "None"
   ]
  },
  {
   "cell_type": "markdown",
   "metadata": {},
   "source": [
    "### Qualitative checks"
   ]
  },
  {
   "cell_type": "code",
   "execution_count": 34,
   "metadata": {
    "collapsed": false,
    "execution": {
     "iopub.execute_input": "2021-05-11T23:41:45.102847Z",
     "iopub.status.busy": "2021-05-11T23:41:45.102452Z",
     "iopub.status.idle": "2021-05-11T23:42:09.593397Z",
     "shell.execute_reply": "2021-05-11T23:42:09.593789Z"
    },
    "jupyter": {
     "outputs_hidden": false
    },
    "pycharm": {
     "name": "#%%\n"
    }
   },
   "outputs": [],
   "source": [
    "def relative_valuation_given_time_since_last_click(preprocessed_dataset, debug_sample, hash_space, c_regularization):\n",
    "  # Load models and data\n",
    "  robust_label_attribution_model = joblib.load(get_robust_label_attribution_model_path(DEBUG_SAMPLE, HASH_SPACE, C_REGULARIZATION))\n",
    "  last_touch_model = joblib.load(get_last_touch_model_path(DEBUG_SAMPLE, HASH_SPACE, C_REGULARIZATION))\n",
    "  \n",
    "  is_training_mask = split_train_test_mask(preprocessed_dataset)\n",
    "  (\n",
    "    train_labels, train_features,\n",
    "    test_labels, test_features\n",
    "  ) = get_train_test_labels_and_features(preprocessed_dataset, is_training_mask, hash_space=hash_space, use_cache=True)\n",
    "  \n",
    "  # Compute model valuations\n",
    "  df = pd.DataFrame()\n",
    "  df['last_touch_valuation'] = last_touch_model.predict_proba(train_features)[:, 1]\n",
    "  df['robust_label_attribution_valuation'] = robust_label_attribution_model.predict_proba(train_features)[:, 1]\n",
    "  df['relative_valuation'] = (df['robust_label_attribution_valuation'] - df['last_touch_valuation']) / df['last_touch_valuation']\n",
    "\n",
    "  # Time since last click\n",
    "  packed_hours = 12\n",
    "  df['hour_since_last_click'] = (\n",
    "    preprocessed_dataset['time_since_last_click'][is_training_mask].values / (packed_hours * 3600)\n",
    "  ).astype(int) * packed_hours\n",
    "  \n",
    "  (\n",
    "    df[df['hour_since_last_click'] > 0][['hour_since_last_click', 'relative_valuation']]\n",
    "    .groupby('hour_since_last_click')\n",
    "    .mean()\n",
    "    .reset_index()\n",
    "  ).to_csv(\n",
    "    get_valuations_given_time_since_last_click_path(debug_sample, hash_space, c_regularization)\n",
    "  )\n",
    "  \n",
    "  # Number of clicks already made\n",
    "  df['number_of_clicks'] = preprocessed_dataset['nb_clicks'][is_training_mask].values\n",
    "  (\n",
    "    df[['number_of_clicks', 'relative_valuation']]\n",
    "    .groupby('number_of_clicks')\n",
    "    .mean()\n",
    "    .reset_index()\n",
    "  ).to_csv(\n",
    "    get_valuations_given_number_of_clicks_path(debug_sample, hash_space, c_regularization)\n",
    "  )\n",
    "  \n",
    "relative_valuation_given_time_since_last_click(preprocessed_dataset, DEBUG_SAMPLE, HASH_SPACE, C_REGULARIZATION)"
   ]
  },
  {
   "cell_type": "code",
   "execution_count": 35,
   "metadata": {
    "execution": {
     "iopub.execute_input": "2021-05-11T23:42:09.600186Z",
     "iopub.status.busy": "2021-05-11T23:42:09.599790Z",
     "iopub.status.idle": "2021-05-11T23:42:09.834835Z",
     "shell.execute_reply": "2021-05-11T23:42:09.835160Z"
    }
   },
   "outputs": [
    {
     "data": {
      "image/png": "[encoded data removed]",
      "text/plain": [
       "<Figure size 576x288 with 2 Axes>"
      ]
     },
     "metadata": {},
     "output_type": "display_data"
    }
   ],
   "source": [
    "tslc_mean_scores_df = pd.read_csv(get_valuations_given_time_since_last_click_path(DEBUG_SAMPLE, HASH_SPACE, C_REGULARIZATION))\n",
    "nb_clicks_mean_scores_df = pd.read_csv(get_valuations_given_number_of_clicks_path(DEBUG_SAMPLE, HASH_SPACE, C_REGULARIZATION))\n",
    "\n",
    "rel_diff_label=r'$\\mathrm{Average} \\left( \\frac{V - V^{\\mathrm{LT}}}{V^{\\mathrm{LT}}} \\right)$'\n",
    "\n",
    "def plot_time_since_last_click(tslc_mean_scores_df, ax):\n",
    "  n_hours = 700\n",
    "  ax.plot(\n",
    "    tslc_mean_scores_df['hour_since_last_click'][tslc_mean_scores_df['hour_since_last_click'] <= n_hours],\n",
    "    tslc_mean_scores_df['relative_valuation'][tslc_mean_scores_df['hour_since_last_click'] <= n_hours] * 100,\n",
    "    label=rel_diff_label\n",
    "  )\n",
    "  \n",
    "  ax.yaxis.set_major_formatter(PercentFormatter())\n",
    "  \n",
    "  ax.set_xlabel('Hours since last click')\n",
    "  ax.legend(fontsize=12)\n",
    "\n",
    "    \n",
    "def plot_nb_clicks(nb_clicks_mean_scores_df, ax):\n",
    "  keep_x_nclicks = 7\n",
    "  ax.plot(\n",
    "    nb_clicks_mean_scores_df['number_of_clicks'][nb_clicks_mean_scores_df['number_of_clicks'] <= keep_x_nclicks], \n",
    "    nb_clicks_mean_scores_df['relative_valuation'][nb_clicks_mean_scores_df['number_of_clicks'] <= keep_x_nclicks] * 100, \n",
    "    label=rel_diff_label,\n",
    "  )\n",
    "  ax.set_xlabel('Number of clicks before display')\n",
    "  ax.yaxis.set_major_formatter(PercentFormatter())\n",
    "  ax.legend(fontsize=12)\n",
    "\n",
    "\n",
    "fig, axes = plt.subplots(1, 2, figsize=(8, 4))\n",
    "plot_time_since_last_click(tslc_mean_scores_df, axes[0])\n",
    "axes[0].set_ylabel('Average valuation\\nin relative difference')\n",
    "plot_nb_clicks(nb_clicks_mean_scores_df, axes[1])\n",
    "\n",
    "fig.tight_layout()"
   ]
  },
  {
   "cell_type": "code",
   "execution_count": 36,
   "metadata": {
    "execution": {
     "iopub.execute_input": "2021-05-11T23:42:09.845281Z",
     "iopub.status.busy": "2021-05-11T23:42:09.842513Z",
     "iopub.status.idle": "2021-05-11T23:42:10.066689Z",
     "shell.execute_reply": "2021-05-11T23:42:10.066349Z"
    }
   },
   "outputs": [],
   "source": [
    "# Saving figures for paper\n",
    "fig, ax = plt.subplots(1, 1, figsize=(5, 3))\n",
    "plot_time_since_last_click(tslc_mean_scores_df, ax)\n",
    "ax.set_ylabel('Average valuation\\nin relative difference')\n",
    "fig.subplots_adjust(bottom=0.15, left=0.2, top=0.95, right=0.95)\n",
    "plt.savefig('relative_score_given_time_since_last_click.pdf')\n",
    "plt.close(fig)\n",
    "\n",
    "fig, ax = plt.subplots(1, 1, figsize=(5, 3))\n",
    "plot_nb_clicks(nb_clicks_mean_scores_df, ax)\n",
    "ax.set_ylabel('Average valuation\\nin relative difference')\n",
    "fig.subplots_adjust(bottom=0.15, left=0.2, top=0.95, right=0.95)\n",
    "plt.savefig('relative_score_given_nb_clicks.pdf')\n",
    "plt.close(fig)"
   ]
  },
  {
   "cell_type": "markdown",
   "metadata": {},
   "source": [
    "### For several feature space sizes\n",
    "\n",
    "To  put  these  results  in  perspective,  we  additionally  tested  the  sensitivity  of  our  results  withrespect  to  the  size  of  the  feature  space.  Indeed,  with  the  hashing  trick,  we  are  embedding  our feature space into a target space whose size can be controlled"
   ]
  },
  {
   "cell_type": "code",
   "execution_count": 37,
   "metadata": {
    "collapsed": false,
    "execution": {
     "iopub.execute_input": "2021-05-11T23:42:10.072911Z",
     "iopub.status.busy": "2021-05-11T23:42:10.072534Z",
     "iopub.status.idle": "2021-05-12T04:48:20.494540Z",
     "shell.execute_reply": "2021-05-12T04:48:20.494916Z"
    },
    "jupyter": {
     "outputs_hidden": false
    },
    "pycharm": {
     "name": "#%%\n"
    }
   },
   "outputs": [
    {
     "name": "stdout",
     "output_type": "stream",
     "text": [
      "CPU times: user 34.7 s, sys: 8.09 s, total: 42.8 s\n",
      "Wall time: 5h 6min 10s\n"
     ]
    }
   ],
   "source": [
    "%%time\n",
    "def launch_experiment_for_one_feature_space_size(n_iterations, preprocessed_dataset, hash_space, c_regularization):\n",
    "  # Load data\n",
    "  is_training_mask = split_train_test_mask(preprocessed_dataset)\n",
    "  (\n",
    "    train_labels, train_features,\n",
    "    test_labels, test_features\n",
    "  ) = get_train_test_labels_and_features(preprocessed_dataset, is_training_mask, hash_space=hash_space, use_cache=True)\n",
    "  (\n",
    "    is_clicked_train, history_ids_train, total_history_id_rewards_train,\n",
    "    is_clicked_test, history_ids_test, total_history_id_rewards_test,\n",
    "  ) = get_train_test_extra_robust_label_attribution_attributes(preprocessed_dataset, is_training_mask)\n",
    "\n",
    "  # Train models\n",
    "  last_touch_model = train_last_touch_model(train_labels, train_features, c_regularization)\n",
    "  robust_label_attribution_model = train_robust_label_attribution_model(10, train_labels, train_features, history_ids_train, total_history_id_rewards_train, is_clicked_train, c_regularization)\n",
    "\n",
    "  # Compute train and test metrics\n",
    "  return (\n",
    "    compute_metrics(last_touch_model, train_features, history_ids_train, total_history_id_rewards_train),\n",
    "    compute_metrics(last_touch_model, test_features, history_ids_test, total_history_id_rewards_test),\n",
    "    compute_metrics(robust_label_attribution_model, train_features, history_ids_train, total_history_id_rewards_train),\n",
    "    compute_metrics(robust_label_attribution_model, test_features, history_ids_test, total_history_id_rewards_test),\n",
    "  )\n",
    "\n",
    "\n",
    "def launch_experiment_for_several_feature_space_sizes(n_iterations, preprocessed_dataset, hash_spaces, n_jobs, debug_sample, c_regularization):\n",
    "  parallel_result = joblib.Parallel(n_jobs=n_jobs)(\n",
    "    joblib.delayed(launch_experiment_for_one_feature_space_size)\n",
    "    (n_iterations, preprocessed_dataset, hash_space, c_regularization) \n",
    "    for hash_space in hash_spaces\n",
    "  )\n",
    "\n",
    "  def _unstack_result(stacked_result):\n",
    "    metric_names = stacked_result[0].keys()\n",
    "    return {\n",
    "      metric_name: [metrics[metric_name] for metrics in stacked_result]\n",
    "      for metric_name in metric_names\n",
    "    }\n",
    "\n",
    "  (\n",
    "    train_last_touch_metrics, test_last_touch_metrics,\n",
    "    train_robust_label_attribution_metrics, test_robust_label_attribution_metrics,\n",
    "  ) = map(_unstack_result, zip(*parallel_result))\n",
    "  \n",
    "  metrics = {'hash_spaces': hash_spaces}\n",
    "  metric_names = train_last_touch_metrics.keys()\n",
    "  for metric_name in metric_names:\n",
    "    for result, result_name in [\n",
    "      (train_last_touch_metrics, 'train_last_touch'), \n",
    "      (train_robust_label_attribution_metrics, 'train_robust_label_attribution'),\n",
    "      (test_last_touch_metrics, 'test_last_touch'),\n",
    "      (test_robust_label_attribution_metrics, 'test_robust_label_attribution'),\n",
    "    ]:\n",
    "      metrics[f'{result_name}_{metric_name}'] = result[metric_name]\n",
    "\n",
    "  pd.DataFrame(metrics).to_csv(get_metrics_with_hashspace_path(debug_sample, c_regularization), index=False)\n",
    "\n",
    "\n",
    "hash_spaces = [int(2**space) for space in range(10, 17)]\n",
    "n_jobs = len(hash_spaces)\n",
    "launch_experiment_for_several_feature_space_sizes(10, preprocessed_dataset, hash_spaces, n_jobs, DEBUG_SAMPLE, C_REGULARIZATION)"
   ]
  },
  {
   "cell_type": "code",
   "execution_count": 38,
   "metadata": {
    "execution": {
     "iopub.execute_input": "2021-05-12T04:48:20.503364Z",
     "iopub.status.busy": "2021-05-12T04:48:20.502936Z",
     "iopub.status.idle": "2021-05-12T04:48:20.796655Z",
     "shell.execute_reply": "2021-05-12T04:48:20.796988Z"
    }
   },
   "outputs": [
    {
     "data": {
      "image/png": "[encoded data removed]",
      "text/plain": [
       "<Figure size 720x288 with 2 Axes>"
      ]
     },
     "metadata": {},
     "output_type": "display_data"
    }
   ],
   "source": [
    "def plot_metric_given_hashspace(hash_spaces, additivity_likelihoods, last_touch_likelihoods, ax, metric_label):\n",
    "  ax.plot(hash_spaces, additivity_likelihoods, label='robust valuation', marker='o')\n",
    "  ax.plot(hash_spaces, last_touch_likelihoods, label='last touch valuation', marker='x')\n",
    "\n",
    "  ax.set_ylabel(metric_label, fontsize=14)\n",
    "  ax.set_xlabel('Size of features space')\n",
    "  ax.legend(loc='lower right')\n",
    "\n",
    "metrics_df = pd.read_csv(get_metrics_with_hashspace_path(DEBUG_SAMPLE, C_REGULARIZATION))\n",
    "fig, axes = plt.subplots(1, 2, figsize=(10, 4), sharey=False)\n",
    "plot_metric_given_hashspace(\n",
    "  metrics_df['hash_spaces'],\n",
    "  metrics_df['train_robust_label_attribution_additivity_likelihood'],\n",
    "  metrics_df['train_last_touch_additivity_likelihood'], \n",
    "  axes[0], \"Additivity likelihood\",\n",
    ")\n",
    "axes[0].set_title('on train set')\n",
    "plot_metric_given_hashspace(\n",
    "  metrics_df['hash_spaces'],\n",
    "  metrics_df['test_robust_label_attribution_additivity_likelihood'],\n",
    "  metrics_df['test_last_touch_additivity_likelihood'],\n",
    "  axes[1], \"Additivity likelihood\"\n",
    ")\n",
    "axes[1].set_title('on test set')\n",
    "\n",
    "fig.tight_layout()"
   ]
  },
  {
   "cell_type": "code",
   "execution_count": 39,
   "metadata": {
    "execution": {
     "iopub.execute_input": "2021-05-12T04:48:20.811383Z",
     "iopub.status.busy": "2021-05-12T04:48:20.807806Z",
     "iopub.status.idle": "2021-05-12T04:48:21.023357Z",
     "shell.execute_reply": "2021-05-12T04:48:21.023731Z"
    }
   },
   "outputs": [],
   "source": [
    "# Saving figures for paper\n",
    "fig, ax = plt.subplots(1, 1, figsize=(5, 3))\n",
    "plot_metric_given_hashspace(\n",
    "  metrics_df['hash_spaces'],\n",
    "  metrics_df['train_robust_label_attribution_additivity_likelihood'],\n",
    "  metrics_df['train_last_touch_additivity_likelihood'], \n",
    "  ax, \"Additivity likelihood\"\n",
    ")\n",
    "fig.subplots_adjust(bottom=0.15, left=0.2, top=0.95, right=0.95)\n",
    "plt.savefig('additive_likelihood_given_features_space_on_train_set.pdf')\n",
    "plt.close(fig)\n",
    "\n",
    "fig, ax = plt.subplots(1, 1, figsize=(5, 3))\n",
    "plot_metric_given_hashspace(\n",
    "  metrics_df['hash_spaces'],\n",
    "  metrics_df['test_robust_label_attribution_additivity_likelihood'],\n",
    "  metrics_df['test_last_touch_additivity_likelihood'],\n",
    "  ax, \"Additivity likelihood\"\n",
    ")\n",
    "fig.subplots_adjust(bottom=0.15, left=0.2, top=0.95, right=0.95)\n",
    "plt.savefig('additive_likelihood_given_features_space_on_test_set.pdf')\n",
    "plt.close(fig)"
   ]
  },
  {
   "cell_type": "code",
   "execution_count": 40,
   "metadata": {
    "execution": {
     "iopub.execute_input": "2021-05-12T04:48:21.028599Z",
     "iopub.status.busy": "2021-05-12T04:48:21.028202Z",
     "iopub.status.idle": "2021-05-12T04:48:21.270750Z",
     "shell.execute_reply": "2021-05-12T04:48:21.271069Z"
    }
   },
   "outputs": [
    {
     "data": {
      "image/png": "[encoded data removed]",
      "text/plain": [
       "<Figure size 720x288 with 2 Axes>"
      ]
     },
     "metadata": {},
     "output_type": "display_data"
    }
   ],
   "source": [
    "metrics_df = pd.read_csv(get_metrics_with_hashspace_path(DEBUG_SAMPLE, C_REGULARIZATION))\n",
    "fig, axes = plt.subplots(1, 2, figsize=(10, 4), sharey=False)\n",
    "plot_metric_given_hashspace(\n",
    "  metrics_df['hash_spaces'],\n",
    "  metrics_df['train_robust_label_attribution_average_precision'],\n",
    "  metrics_df['train_last_touch_average_precision'], \n",
    "  axes[0], \"Mean average precision\"\n",
    ")\n",
    "axes[0].set_title('on train set')\n",
    "plot_metric_given_hashspace(\n",
    "  metrics_df['hash_spaces'],\n",
    "  metrics_df['test_robust_label_attribution_average_precision'],\n",
    "  metrics_df['test_last_touch_average_precision'],\n",
    "  axes[1], \"Mean average precision\"\n",
    ")\n",
    "axes[1].set_title('on test set')\n",
    "\n",
    "fig.tight_layout()"
   ]
  },
  {
   "cell_type": "code",
   "execution_count": 41,
   "metadata": {
    "execution": {
     "iopub.execute_input": "2021-05-12T04:48:21.282449Z",
     "iopub.status.busy": "2021-05-12T04:48:21.281874Z",
     "iopub.status.idle": "2021-05-12T04:48:21.465245Z",
     "shell.execute_reply": "2021-05-12T04:48:21.465543Z"
    }
   },
   "outputs": [],
   "source": [
    "# Saving figures for paper\n",
    "fig, ax = plt.subplots(1, 1, figsize=(5, 3))\n",
    "plot_metric_given_hashspace(\n",
    "  metrics_df['hash_spaces'],\n",
    "  metrics_df['train_robust_label_attribution_average_precision'],\n",
    "  metrics_df['train_last_touch_average_precision'], \n",
    "  ax, \"Mean average precision\"\n",
    ")\n",
    "fig.subplots_adjust(bottom=0.15, left=0.2, top=0.95, right=0.95)\n",
    "plt.savefig('average_precision_given_features_space_on_train_set.pdf')\n",
    "plt.close(fig)\n",
    "\n",
    "fig, ax = plt.subplots(1, 1, figsize=(5, 3))\n",
    "plot_metric_given_hashspace(\n",
    "  metrics_df['hash_spaces'],\n",
    "  metrics_df['test_robust_label_attribution_average_precision'],\n",
    "  metrics_df['test_last_touch_average_precision'],\n",
    "  ax, \"Mean average precision\"\n",
    ")\n",
    "fig.subplots_adjust(bottom=0.15, left=0.2, top=0.95, right=0.95)\n",
    "plt.savefig('average_precision_given_features_space_on_test_set.pdf')\n",
    "plt.close(fig)"
   ]
  },
  {
   "cell_type": "code",
   "execution_count": null,
   "metadata": {},
   "outputs": [],
   "source": []
  }
 ],
 "metadata": {},
 "nbformat": 4,
 "nbformat_minor": 4
}
